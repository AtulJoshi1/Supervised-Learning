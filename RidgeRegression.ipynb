{
 "cells": [
  {
   "cell_type": "markdown",
   "metadata": {},
   "source": [
    "# Ridge Regression in Vectorized/ Matrix Form from scratch in Python"
   ]
  },
  {
   "cell_type": "code",
   "execution_count": 1,
   "metadata": {},
   "outputs": [],
   "source": [
    "import pandas as pd\n",
    "import numpy as np\n",
    "import matplotlib.pyplot as pt\n",
    "from sklearn.metrics import mean_squared_error"
   ]
  },
  {
   "cell_type": "code",
   "execution_count": 2,
   "metadata": {},
   "outputs": [],
   "source": [
    "train=pd.read_csv('/home/atul/Downloads/train.csv')\n",
    "test=pd.read_csv('/home/atul/Downloads/test1.csv')"
   ]
  },
  {
   "cell_type": "code",
   "execution_count": 3,
   "metadata": {},
   "outputs": [
    {
     "data": {
      "text/html": [
       "<div>\n",
       "<style scoped>\n",
       "    .dataframe tbody tr th:only-of-type {\n",
       "        vertical-align: middle;\n",
       "    }\n",
       "\n",
       "    .dataframe tbody tr th {\n",
       "        vertical-align: top;\n",
       "    }\n",
       "\n",
       "    .dataframe thead th {\n",
       "        text-align: right;\n",
       "    }\n",
       "</style>\n",
       "<table border=\"1\" class=\"dataframe\">\n",
       "  <thead>\n",
       "    <tr style=\"text-align: right;\">\n",
       "      <th></th>\n",
       "      <th>AT</th>\n",
       "      <th>V</th>\n",
       "      <th>AP</th>\n",
       "      <th>RH</th>\n",
       "      <th>PE</th>\n",
       "    </tr>\n",
       "  </thead>\n",
       "  <tbody>\n",
       "    <tr>\n",
       "      <th>0</th>\n",
       "      <td>8.34</td>\n",
       "      <td>40.77</td>\n",
       "      <td>1010.84</td>\n",
       "      <td>90.01</td>\n",
       "      <td>480.48</td>\n",
       "    </tr>\n",
       "    <tr>\n",
       "      <th>1</th>\n",
       "      <td>23.64</td>\n",
       "      <td>58.49</td>\n",
       "      <td>1011.40</td>\n",
       "      <td>74.20</td>\n",
       "      <td>445.75</td>\n",
       "    </tr>\n",
       "    <tr>\n",
       "      <th>2</th>\n",
       "      <td>29.74</td>\n",
       "      <td>56.90</td>\n",
       "      <td>1007.15</td>\n",
       "      <td>41.91</td>\n",
       "      <td>438.76</td>\n",
       "    </tr>\n",
       "    <tr>\n",
       "      <th>3</th>\n",
       "      <td>19.07</td>\n",
       "      <td>49.69</td>\n",
       "      <td>1007.22</td>\n",
       "      <td>76.79</td>\n",
       "      <td>453.09</td>\n",
       "    </tr>\n",
       "    <tr>\n",
       "      <th>4</th>\n",
       "      <td>11.80</td>\n",
       "      <td>40.66</td>\n",
       "      <td>1017.13</td>\n",
       "      <td>97.20</td>\n",
       "      <td>464.43</td>\n",
       "    </tr>\n",
       "  </tbody>\n",
       "</table>\n",
       "</div>"
      ],
      "text/plain": [
       "      AT      V       AP     RH      PE\n",
       "0   8.34  40.77  1010.84  90.01  480.48\n",
       "1  23.64  58.49  1011.40  74.20  445.75\n",
       "2  29.74  56.90  1007.15  41.91  438.76\n",
       "3  19.07  49.69  1007.22  76.79  453.09\n",
       "4  11.80  40.66  1017.13  97.20  464.43"
      ]
     },
     "execution_count": 3,
     "metadata": {},
     "output_type": "execute_result"
    }
   ],
   "source": [
    "train.head() #1st 5 rows of train"
   ]
  },
  {
   "cell_type": "code",
   "execution_count": 4,
   "metadata": {},
   "outputs": [
    {
     "data": {
      "text/html": [
       "<div>\n",
       "<style scoped>\n",
       "    .dataframe tbody tr th:only-of-type {\n",
       "        vertical-align: middle;\n",
       "    }\n",
       "\n",
       "    .dataframe tbody tr th {\n",
       "        vertical-align: top;\n",
       "    }\n",
       "\n",
       "    .dataframe thead th {\n",
       "        text-align: right;\n",
       "    }\n",
       "</style>\n",
       "<table border=\"1\" class=\"dataframe\">\n",
       "  <thead>\n",
       "    <tr style=\"text-align: right;\">\n",
       "      <th></th>\n",
       "      <th>AT</th>\n",
       "      <th>V</th>\n",
       "      <th>AP</th>\n",
       "      <th>RH</th>\n",
       "      <th>PE</th>\n",
       "    </tr>\n",
       "  </thead>\n",
       "  <tbody>\n",
       "    <tr>\n",
       "      <th>0</th>\n",
       "      <td>8.67</td>\n",
       "      <td>40.77</td>\n",
       "      <td>1011.81</td>\n",
       "      <td>89.40</td>\n",
       "      <td>479.23</td>\n",
       "    </tr>\n",
       "    <tr>\n",
       "      <th>1</th>\n",
       "      <td>10.53</td>\n",
       "      <td>37.50</td>\n",
       "      <td>1008.55</td>\n",
       "      <td>99.91</td>\n",
       "      <td>472.32</td>\n",
       "    </tr>\n",
       "    <tr>\n",
       "      <th>2</th>\n",
       "      <td>7.99</td>\n",
       "      <td>41.38</td>\n",
       "      <td>1021.95</td>\n",
       "      <td>78.77</td>\n",
       "      <td>487.57</td>\n",
       "    </tr>\n",
       "    <tr>\n",
       "      <th>3</th>\n",
       "      <td>22.29</td>\n",
       "      <td>45.01</td>\n",
       "      <td>1012.40</td>\n",
       "      <td>51.58</td>\n",
       "      <td>449.08</td>\n",
       "    </tr>\n",
       "    <tr>\n",
       "      <th>4</th>\n",
       "      <td>9.06</td>\n",
       "      <td>36.30</td>\n",
       "      <td>1015.14</td>\n",
       "      <td>58.71</td>\n",
       "      <td>477.38</td>\n",
       "    </tr>\n",
       "  </tbody>\n",
       "</table>\n",
       "</div>"
      ],
      "text/plain": [
       "      AT      V       AP     RH      PE\n",
       "0   8.67  40.77  1011.81  89.40  479.23\n",
       "1  10.53  37.50  1008.55  99.91  472.32\n",
       "2   7.99  41.38  1021.95  78.77  487.57\n",
       "3  22.29  45.01  1012.40  51.58  449.08\n",
       "4   9.06  36.30  1015.14  58.71  477.38"
      ]
     },
     "execution_count": 4,
     "metadata": {},
     "output_type": "execute_result"
    }
   ],
   "source": [
    "test.head() #1st 5 rows of tests"
   ]
  },
  {
   "cell_type": "markdown",
   "metadata": {},
   "source": [
    "# Algorithms"
   ]
  },
  {
   "cell_type": "markdown",
   "metadata": {},
   "source": [
    "error_thres = Error Threshold  \n",
    "maxi = max. no. of iterations   \n",
    "s = step size or learning rate  \n",
    "theta = parameter array(to learn) ,here Initialized with all zeros can be random values as well between 0 and 1  \n",
    "J = cost Function    \n",
    "Jval = list of error values  \n",
    "m = no. of training examples  \n",
    "lbda = regularization coefficient\n",
    "Y = Dependent/Predicted Variable  "
   ]
  },
  {
   "cell_type": "code",
   "execution_count": 5,
   "metadata": {},
   "outputs": [],
   "source": [
    "def ridgeRegression(error_thres,maxi,s,lbda):\n",
    "    #theta=np.matrix([np.random.uniform(0,1),np.random.uniform(0,1),np.random.uniform(0,1),np.random.uniform(0,1),np.random.uniform(0,1)])   \n",
    "    Jval=[]\n",
    "    theta=np.zeros(5)\n",
    "    for i in range(maxi):\n",
    "        Y=theta.dot(X)\n",
    "        J=((1/(2*m))*(np.sum(np.square(Y-yTrainTarget))+lbda*np.square(np.linalg.norm(theta))))\n",
    "        Jval.append(J)\n",
    "        if(J<error_thres and (len(Jval)>10 and np.mean(Jval[-10:])==Jval[-1])):\n",
    "            break\n",
    "        else:\n",
    "            theta=gradientDescent(X,yTrainTarget,theta.T,s,lbda).T\n",
    "    return(theta, Jval)"
   ]
  },
  {
   "cell_type": "code",
   "execution_count": 6,
   "metadata": {},
   "outputs": [],
   "source": [
    "def gradientDescent(A,B,theta,s,lbda):\n",
    "        theta=theta-((s/m)*(((theta.T.dot(A))-B).dot(A.T)).T+s*(lbda/m)*theta)\n",
    "        return(theta)"
   ]
  },
  {
   "cell_type": "markdown",
   "metadata": {},
   "source": [
    "# Training"
   ]
  },
  {
   "cell_type": "code",
   "execution_count": 7,
   "metadata": {},
   "outputs": [
    {
     "data": {
      "text/plain": [
       "299"
      ]
     },
     "execution_count": 7,
     "metadata": {},
     "output_type": "execute_result"
    }
   ],
   "source": [
    "m=len(train) #no. of training examples\n",
    "m"
   ]
  },
  {
   "cell_type": "markdown",
   "metadata": {},
   "source": [
    "## Converting Train Data Frames in matrix form"
   ]
  },
  {
   "cell_type": "code",
   "execution_count": 8,
   "metadata": {},
   "outputs": [
    {
     "data": {
      "text/plain": [
       "array([[8.34000e+00, 2.36400e+01, 2.97400e+01, ..., 3.05900e+01,\n",
       "        1.40400e+01, 1.54700e+01],\n",
       "       [4.07700e+01, 5.84900e+01, 5.69000e+01, ..., 7.00400e+01,\n",
       "        4.87900e+01, 4.49000e+01],\n",
       "       [1.01084e+03, 1.01140e+03, 1.00715e+03, ..., 1.01028e+03,\n",
       "        1.01762e+03, 1.02159e+03],\n",
       "       [9.00100e+01, 7.42000e+01, 4.19100e+01, ..., 5.05600e+01,\n",
       "        7.52500e+01, 8.17400e+01],\n",
       "       [1.00000e+00, 1.00000e+00, 1.00000e+00, ..., 1.00000e+00,\n",
       "        1.00000e+00, 1.00000e+00]])"
      ]
     },
     "execution_count": 8,
     "metadata": {},
     "output_type": "execute_result"
    }
   ],
   "source": [
    "trd=train.T \n",
    "m=len(train)\n",
    "X=np.array([trd.iloc[0].values,trd.iloc[1].values,trd.iloc[2].values,trd.iloc[3].values,np.ones(m)])\n",
    "X"
   ]
  },
  {
   "cell_type": "markdown",
   "metadata": {},
   "source": [
    "## True target values"
   ]
  },
  {
   "cell_type": "code",
   "execution_count": 9,
   "metadata": {},
   "outputs": [
    {
     "data": {
      "text/plain": [
       "array([480.48, 445.75, 438.76, 453.09, 464.43, 470.96, 442.35, 464.  ,\n",
       "       428.77, 484.31, 435.29, 451.41, 426.25, 480.66, 460.17, 453.13,\n",
       "       461.71, 471.08, 473.74, 448.56, 464.82, 427.28, 441.76, 474.71,\n",
       "       467.21, 487.69, 438.67, 485.66, 452.16, 429.87, 468.82, 442.85,\n",
       "       483.26, 433.59, 433.04, 458.6 , 435.14, 443.2 , 477.9 , 445.26,\n",
       "       435.57, 447.42, 462.28, 441.81, 454.16, 437.24, 464.11, 440.89,\n",
       "       485.2 , 445.34, 440.  , 431.35, 456.32, 432.98, 429.41, 464.95,\n",
       "       481.91, 437.15, 462.6 , 432.43, 442.22, 441.03, 468.91, 432.46,\n",
       "       430.07, 437.78, 483.12, 462.19, 457.71, 438.32, 434.35, 427.05,\n",
       "       448.69, 475.88, 479.28, 446.85, 434.99, 441.5 , 433.26, 430.46,\n",
       "       455.14, 431.26, 437.76, 464.63, 462.58, 483.27, 438.51, 431.03,\n",
       "       484.  , 431.64, 451.78, 439.46, 467.23, 459.81, 447.15, 442.  ,\n",
       "       449.61, 481.28, 437.54, 475.52, 458.68, 436.76, 446.08, 474.35,\n",
       "       481.96, 479.66, 435.28, 434.86, 435.72, 454.14, 455.76, 442.83,\n",
       "       449.47, 445.76, 473.57, 435.75, 437.96, 438.59, 444.21, 459.47,\n",
       "       465.54, 458.85, 435.68, 449.2 , 445.43, 453.96, 463.93, 465.82,\n",
       "       471.6 , 427.72, 468.54, 434.08, 454.57, 489.79, 481.78, 443.57,\n",
       "       457.9 , 472.16, 451.19, 470.33, 486.68, 472.68, 445.72, 466.58,\n",
       "       436.99, 470.87, 457.77, 448.15, 476.03, 442.87, 477.93, 459.06,\n",
       "       456.18, 473.62, 473.64, 463.64, 462.44, 454.39, 452.06, 453.31,\n",
       "       466.93, 436.37, 458.87, 470.67, 475.54, 432.72, 441.41, 472.9 ,\n",
       "       457.83, 462.05, 445.3 , 435.94, 472.71, 464.5 , 449.77, 435.04,\n",
       "       472.47, 459.31, 434.62, 435.34, 430.64, 447.16, 471.72, 470.41,\n",
       "       468.37, 483.59, 432.74, 438.11, 484.75, 445.01, 445.82, 452.47,\n",
       "       459.76, 445.3 , 486.9 , 454.89, 441.19, 440.5 , 435.04, 472.16,\n",
       "       442.16, 442.49, 456.55, 431.03, 471.42, 463.34, 433.97, 487.  ,\n",
       "       480.19, 479.56, 470.03, 429.57, 489.26, 435.62, 443.84, 463.76,\n",
       "       447.26, 430.3 , 475.01, 445.11, 450.35, 446.14, 439.04, 438.46,\n",
       "       468.57, 461.55, 468.02, 447.18, 444.69, 474.1 , 428.27, 425.18,\n",
       "       460.6 , 436.21, 476.25, 461.08, 460.3 , 435.04, 453.86, 484.78,\n",
       "       440.48, 452.17, 434.47, 436.8 , 459.76, 468.85, 468.81, 454.29,\n",
       "       442.8 , 445.52, 447.43, 437.31, 477.03, 456.57, 440.03, 466.24,\n",
       "       440.21, 475.17, 466.95, 457.81, 433.34, 485.19, 450.96, 446.05,\n",
       "       449.23, 469.31, 479.01, 432.46, 458.59, 440.13, 442.9 , 432.43,\n",
       "       455.07, 431.99, 439.22, 433.14, 483.95, 427.94, 435.61, 478.29,\n",
       "       453.08, 463.14, 480.96, 460.38, 437.19, 478.02, 456.07, 434.01,\n",
       "       476.99, 435.31, 432.85, 453.8 , 431.33, 431.69, 435.66, 488.05,\n",
       "       429.13, 464.09, 465.61])"
      ]
     },
     "execution_count": 9,
     "metadata": {},
     "output_type": "execute_result"
    }
   ],
   "source": [
    "yTrainTarget=trd.iloc[4].values\n",
    "yTrainTarget "
   ]
  },
  {
   "cell_type": "markdown",
   "metadata": {},
   "source": [
    "### Learnt parameter values"
   ]
  },
  {
   "cell_type": "code",
   "execution_count": 10,
   "metadata": {},
   "outputs": [
    {
     "data": {
      "text/plain": [
       "array([-2.83768269e-03,  5.59803810e-03,  4.44895531e-01,  4.11773165e-02,\n",
       "        4.35920786e-04])"
      ]
     },
     "execution_count": 10,
     "metadata": {},
     "output_type": "execute_result"
    }
   ],
   "source": [
    "theta, Jval=ridgeRegression(0.001,1000,0.0000001,0.0001)\n",
    "theta"
   ]
  },
  {
   "cell_type": "code",
   "execution_count": 11,
   "metadata": {},
   "outputs": [
    {
     "data": {
      "text/plain": [
       "Text(0, 0.5, 'Error or Cost Function')"
      ]
     },
     "execution_count": 11,
     "metadata": {},
     "output_type": "execute_result"
    },
    {
     "data": {
      "image/png": "[encoded data removed]",
      "text/plain": [
       "<Figure size 432x288 with 1 Axes>"
      ]
     },
     "metadata": {
      "needs_background": "light"
     },
     "output_type": "display_data"
    }
   ],
   "source": [
    "pt.plot(range(len(Jval)),Jval)\n",
    "pt.title('Error vs no. of iterations curve for Training')\n",
    "pt.xlabel('No. of Iterations')\n",
    "pt.ylabel('Error or Cost Function')"
   ]
  },
  {
   "cell_type": "code",
   "execution_count": 12,
   "metadata": {},
   "outputs": [
    {
     "data": {
      "text/plain": [
       "array([453.6295704 , 453.28347921, 450.03684691, 451.49417062,\n",
       "       456.71359403, 455.69971784, 451.98442767, 458.09619681,\n",
       "       451.27314865, 456.35034497, 450.90796446, 453.42369919,\n",
       "       452.59780249, 452.41236799, 455.23128161, 457.08033964,\n",
       "       452.73580309, 457.74976328, 456.32384039, 447.53807989,\n",
       "       455.05167661, 449.36771603, 453.07679282, 459.48181496,\n",
       "       456.70268064, 459.61526333, 453.40783705, 456.99198876,\n",
       "       453.02274006, 454.18689148, 446.43932646, 454.11564021,\n",
       "       457.49857721, 453.80860744, 450.89336646, 458.35958889,\n",
       "       451.66406909, 455.93585858, 456.32711839, 455.62413584,\n",
       "       450.55648434, 452.50585328, 454.0412447 , 453.81336793,\n",
       "       455.05594766, 452.21740959, 450.6610682 , 448.95364774,\n",
       "       455.58180556, 452.05175925, 454.08129915, 452.93765659,\n",
       "       455.68061509, 450.2954224 , 451.79826206, 451.48452063,\n",
       "       452.46042591, 453.44824654, 454.78823316, 449.75279236,\n",
       "       452.73081133, 453.44632421, 455.23873414, 451.62474017,\n",
       "       453.83012389, 449.30391694, 460.10842278, 458.10569378,\n",
       "       455.74992847, 450.09574733, 453.55134817, 448.69122203,\n",
       "       453.87245166, 457.79084967, 456.88095211, 451.59506615,\n",
       "       452.04795097, 452.02403058, 455.63649247, 452.47693236,\n",
       "       455.51155009, 450.02286832, 451.09138283, 453.81055482,\n",
       "       455.25454866, 450.36566351, 453.11314476, 452.02909147,\n",
       "       456.9573171 , 451.6927001 , 454.29878538, 454.3118948 ,\n",
       "       452.1560382 , 452.70345479, 453.23205324, 453.33315435,\n",
       "       451.55404516, 460.42157559, 450.69497535, 459.22512791,\n",
       "       457.20436901, 452.44515711, 454.30621684, 453.78137613,\n",
       "       455.38899672, 456.8123064 , 451.60388046, 452.47507329,\n",
       "       452.0489481 , 457.36130988, 453.93902945, 452.96658737,\n",
       "       457.5133311 , 455.61758183, 453.96199437, 449.01471522,\n",
       "       452.91493671, 456.63524009, 454.80161544, 451.95677906,\n",
       "       453.64565537, 459.14990192, 451.40912289, 450.77781631,\n",
       "       454.96848654, 452.98612757, 454.96088988, 452.67014265,\n",
       "       459.40952131, 449.99150165, 455.04944654, 452.44528713,\n",
       "       457.04114728, 458.17644181, 453.60512769, 450.51199701,\n",
       "       452.94394601, 459.173591  , 454.67131125, 456.15067214,\n",
       "       453.17814074, 455.64307306, 451.79259421, 458.24743214,\n",
       "       451.48660919, 453.58567141, 459.97919412, 450.58275171,\n",
       "       452.4465496 , 452.06470929, 452.74072366, 454.46531776,\n",
       "       451.4030271 , 460.07568746, 459.42574058, 454.02358919,\n",
       "       453.01190592, 454.15352281, 451.72520202, 453.91083596,\n",
       "       457.60567273, 449.04223948, 458.42574186, 452.86531637,\n",
       "       452.93352488, 454.31406795, 451.55124671, 453.11395083,\n",
       "       450.8346689 , 455.92443293, 451.56412417, 449.76559059,\n",
       "       454.05660929, 454.36171517, 457.08562005, 451.06029352,\n",
       "       451.6913593 , 451.26473148, 447.59260394, 449.44377151,\n",
       "       448.7273589 , 453.65242101, 455.81435197, 454.04185875,\n",
       "       454.67827069, 459.10582092, 454.15294078, 454.18119513,\n",
       "       452.27739745, 452.81592965, 456.78999129, 449.33504213,\n",
       "       458.09479786, 452.8359927 , 457.14227022, 457.17928276,\n",
       "       455.8704861 , 453.81030595, 451.9036279 , 454.07318775,\n",
       "       451.74502613, 450.4793514 , 448.20998057, 446.64549214,\n",
       "       454.04710057, 459.47481098, 453.35116792, 457.04194595,\n",
       "       460.95641818, 456.70332053, 452.72539482, 452.47339156,\n",
       "       453.71348332, 452.91086906, 453.9359886 , 451.60105793,\n",
       "       454.15149967, 450.90274392, 454.79024377, 455.47141449,\n",
       "       457.72995509, 454.81960469, 452.50184552, 455.2186971 ,\n",
       "       454.31491907, 454.88278134, 455.83839314, 457.48547197,\n",
       "       449.96106983, 456.79788607, 451.70306888, 448.58826327,\n",
       "       450.35186469, 454.90662996, 453.64679824, 447.35733536,\n",
       "       455.37642453, 451.73587799, 452.17549293, 452.3456242 ,\n",
       "       452.63335685, 453.7214436 , 453.49844365, 452.96032431,\n",
       "       453.36089466, 459.318205  , 459.75917834, 456.23607684,\n",
       "       451.54997076, 454.14887645, 454.36380503, 455.38398219,\n",
       "       457.2293989 , 451.5876119 , 455.11868071, 454.47015574,\n",
       "       453.80753416, 458.04565475, 451.22571382, 453.84242242,\n",
       "       452.03840643, 457.23271061, 454.15663914, 453.21668666,\n",
       "       452.40062567, 455.00542072, 458.61911173, 450.70402653,\n",
       "       450.44952296, 449.45205734, 457.1390364 , 451.33185336,\n",
       "       457.39937621, 452.770719  , 449.66082716, 452.56872734,\n",
       "       457.22717015, 452.11596712, 448.21566418, 453.62462167,\n",
       "       453.58402004, 453.20590542, 458.5101432 , 457.94889191,\n",
       "       452.03093766, 452.95248668, 458.06839172, 455.20334249,\n",
       "       456.96751245, 451.76284444, 451.50921723, 457.41448332,\n",
       "       447.42242278, 450.69185687, 455.24782875, 455.54122421,\n",
       "       451.8566999 , 456.06690638, 458.07454817])"
      ]
     },
     "execution_count": 12,
     "metadata": {},
     "output_type": "execute_result"
    }
   ],
   "source": [
    "yPredTrain = theta.dot(X)\n",
    "yPredTrain"
   ]
  },
  {
   "cell_type": "markdown",
   "metadata": {},
   "source": [
    "### Root Mean Squared Error for Train"
   ]
  },
  {
   "cell_type": "code",
   "execution_count": 13,
   "metadata": {},
   "outputs": [
    {
     "data": {
      "text/plain": [
       "15.8427703979033"
      ]
     },
     "execution_count": 13,
     "metadata": {},
     "output_type": "execute_result"
    }
   ],
   "source": [
    "np.sqrt(mean_squared_error(yTrainTarget,yPredTrain.T))"
   ]
  },
  {
   "cell_type": "markdown",
   "metadata": {},
   "source": [
    "# Testing"
   ]
  },
  {
   "cell_type": "markdown",
   "metadata": {},
   "source": [
    "## Preparing Test Data"
   ]
  },
  {
   "cell_type": "code",
   "execution_count": 14,
   "metadata": {},
   "outputs": [
    {
     "data": {
      "text/plain": [
       "(5, 200)"
      ]
     },
     "execution_count": 14,
     "metadata": {},
     "output_type": "execute_result"
    }
   ],
   "source": [
    "tsd=test.T \n",
    "m=len(test)\n",
    "Xtest=np.array([tsd.iloc[0].values,tsd.iloc[1].values,tsd.iloc[2].values,tsd.iloc[3].values,np.ones(m)])\n",
    "Xtest.shape"
   ]
  },
  {
   "cell_type": "code",
   "execution_count": 15,
   "metadata": {},
   "outputs": [
    {
     "data": {
      "text/plain": [
       "array([479.23, 472.32, 487.57, 449.08, 477.38, 474.16, 454.25, 429.85,\n",
       "       462.98, 434.04, 470.84, 488.65, 473.94, 437.42, 457.12, 457.49,\n",
       "       443.41, 445.27, 436.74, 487.33, 434.43, 437.14, 439.96, 442.58,\n",
       "       436.88, 441.94, 438.62, 470.55, 441.76, 450.88, 482.89, 454.41,\n",
       "       479.15, 458.67, 446.91, 466.52, 444.16, 489.09, 475.01, 471.43,\n",
       "       455.24, 445.49, 430.56, 471.78, 443.15, 475.  , 474.22, 445.71,\n",
       "       491.29, 437.87, 467.44, 437.14, 448.24, 447.2 , 478.12, 465.44,\n",
       "       445.65, 437.4 , 455.66, 445.83, 449.36, 436.26, 452.99, 431.72,\n",
       "       481.83, 433.08, 446.87, 463.03, 440.77, 430.91, 445.93, 430.34,\n",
       "       462.46, 460.08, 441.76, 449.66, 436.38, 452.07, 467.35, 473.87,\n",
       "       460.7 , 479.53, 467.46, 440.27, 454.32, 442.48, 435.76, 439.56,\n",
       "       467.  , 462.6 , 472.16, 448.46, 434.11, 449.74, 439.29, 473.2 ,\n",
       "       437.62, 491.49, 495.23, 442.75, 480.74, 461.38, 461.74, 489.54,\n",
       "       477.61, 461.49, 474.93, 447.89, 481.02, 470.68, 440.92, 453.38,\n",
       "       458.68, 433.82, 473.72, 482.37, 443.39, 449.93, 443.31, 443.63,\n",
       "       438.9 , 446.72, 449.68, 461.54, 451.97, 444.53, 479.61, 453.76,\n",
       "       430.28, 442.39, 474.57, 466.33, 433.72, 460.44, 445.04, 432.85,\n",
       "       439.37, 457.09, 488.8 , 433.63, 445.1 , 433.01, 453.45, 454.46,\n",
       "       473.09, 441.53, 479.15, 438.18, 443.3 , 447.45, 469.25, 476.67,\n",
       "       460.01, 432.3 , 454.01, 436.64, 450.23, 458.55, 481.08, 460.57,\n",
       "       478.24, 431.83, 469.33, 428.62, 434.12, 442.77, 467.42, 447.8 ,\n",
       "       436.19, 441.56, 463.33, 470.53, 447.28, 450.7 , 432.78, 451.09,\n",
       "       438.23, 457.07, 438.44, 473.43, 437.39, 450.86, 435.12, 477.05,\n",
       "       432.6 , 432.43, 486.46, 468.14, 429.08, 443.7 , 477.65, 433.84,\n",
       "       442.65, 478.44, 447.18, 446.26, 472.67, 461.6 , 443.71, 430.16])"
      ]
     },
     "execution_count": 15,
     "metadata": {},
     "output_type": "execute_result"
    }
   ],
   "source": [
    "yTestTarget=tsd.iloc[4].values\n",
    "yTestTarget "
   ]
  },
  {
   "cell_type": "markdown",
   "metadata": {},
   "source": [
    "## Applying Learned theta values from Trained model on test data to predict values"
   ]
  },
  {
   "cell_type": "code",
   "execution_count": 16,
   "metadata": {},
   "outputs": [
    {
     "data": {
      "text/plain": [
       "array([454.03506447, 452.99389496, 458.1139347 , 452.72531316,\n",
       "       454.22670481, 453.82707952, 452.94337644, 450.01105476,\n",
       "       456.59225491, 452.59623367, 455.64237029, 460.4730132 ,\n",
       "       457.28545684, 454.36930184, 455.92414806, 459.07043511,\n",
       "       451.02668462, 455.63972856, 453.3843807 , 457.11963644,\n",
       "       450.43858749, 453.86769218, 453.61101147, 451.36030407,\n",
       "       450.1423781 , 451.13755658, 453.34225371, 453.73082609,\n",
       "       450.08791425, 453.18693716, 454.71837623, 457.02358187,\n",
       "       456.0554614 , 453.83027394, 455.43575633, 458.10638972,\n",
       "       451.64499104, 453.85361414, 458.18911271, 457.09147784,\n",
       "       457.51244951, 450.59738847, 447.14167105, 458.56801498,\n",
       "       452.15836483, 457.05836336, 456.49480274, 450.97588601,\n",
       "       453.80805122, 453.31263019, 454.50544801, 451.56077956,\n",
       "       451.72798244, 450.34793935, 461.87003515, 457.07881568,\n",
       "       452.56283844, 451.72694407, 453.17914328, 454.57028857,\n",
       "       457.85978011, 453.194171  , 455.1954961 , 450.96633487,\n",
       "       456.41136622, 451.85065778, 452.50579963, 455.80610987,\n",
       "       453.64289461, 451.05227197, 456.4469526 , 448.80068396,\n",
       "       457.47247551, 457.75753968, 453.71989234, 456.57726889,\n",
       "       448.58410744, 452.77156719, 454.43258246, 457.98128371,\n",
       "       457.6031807 , 456.99985368, 456.55895483, 453.28130335,\n",
       "       457.49505497, 451.82357663, 447.74915586, 452.21942234,\n",
       "       453.17575438, 456.94405119, 448.41373786, 453.18060825,\n",
       "       452.5055145 , 451.63766823, 453.03656883, 457.78228875,\n",
       "       453.11192044, 453.56207253, 456.55965167, 451.6667591 ,\n",
       "       457.20003968, 455.51236896, 451.83904008, 459.50343445,\n",
       "       460.06419281, 454.94255025, 450.92739685, 452.64787096,\n",
       "       455.43825629, 454.95261314, 455.39872711, 447.63465012,\n",
       "       451.13118354, 451.46971656, 462.55644985, 455.12195728,\n",
       "       454.83686398, 455.6982091 , 455.43171573, 452.42570378,\n",
       "       453.21492211, 451.58386759, 455.38183141, 457.14165632,\n",
       "       455.5504429 , 453.71090579, 452.7563978 , 456.03036781,\n",
       "       451.93925735, 452.96038906, 453.36313069, 452.30548499,\n",
       "       452.98419238, 457.83927234, 451.54696081, 450.86237521,\n",
       "       449.13979298, 455.71048136, 454.29510733, 450.01079853,\n",
       "       451.09999811, 451.41305274, 452.34212576, 449.69082356,\n",
       "       457.95333345, 451.32567547, 455.73355619, 449.43005024,\n",
       "       454.95439603, 456.28234774, 456.67445099, 458.82027141,\n",
       "       458.17327269, 450.4573527 , 454.36448588, 452.45417227,\n",
       "       455.85423539, 456.65098422, 458.18533192, 458.30978294,\n",
       "       454.02584992, 451.4984383 , 456.96909561, 452.16176997,\n",
       "       452.59399502, 452.83621434, 455.67288115, 450.0804387 ,\n",
       "       451.42139408, 452.13728051, 452.36711255, 454.21722573,\n",
       "       452.57113922, 454.3659541 , 450.11377029, 452.43245188,\n",
       "       451.80791565, 449.65391207, 450.74302628, 456.67567534,\n",
       "       453.51746304, 452.38754574, 455.48238136, 459.17058643,\n",
       "       450.88022948, 451.62855292, 455.0799495 , 454.24914915,\n",
       "       451.80373377, 452.45373193, 452.79115802, 450.65242517,\n",
       "       454.42939879, 452.94211023, 453.33048621, 453.22023611,\n",
       "       454.41650996, 455.00114358, 450.84244143, 449.91953953])"
      ]
     },
     "execution_count": 16,
     "metadata": {},
     "output_type": "execute_result"
    }
   ],
   "source": [
    "yPredTest = theta.dot(Xtest)\n",
    "yPredTest"
   ]
  },
  {
   "cell_type": "markdown",
   "metadata": {},
   "source": [
    "### Root Mean Squared Error for Test"
   ]
  },
  {
   "cell_type": "code",
   "execution_count": 17,
   "metadata": {},
   "outputs": [
    {
     "data": {
      "text/plain": [
       "15.54937809344365"
      ]
     },
     "execution_count": 17,
     "metadata": {},
     "output_type": "execute_result"
    }
   ],
   "source": [
    "np.sqrt(mean_squared_error(yTestTarget,yPredTest.T))"
   ]
  }
 ],
 "metadata": {
  "kernelspec": {
   "display_name": "Python 3",
   "language": "python",
   "name": "python3"
  },
  "language_info": {
   "codemirror_mode": {
    "name": "ipython",
    "version": 3
   },
   "file_extension": ".py",
   "mimetype": "text/x-python",
   "name": "python",
   "nbconvert_exporter": "python",
   "pygments_lexer": "ipython3",
   "version": "3.7.1"
  }
 },
 "nbformat": 4,
 "nbformat_minor": 2
}
