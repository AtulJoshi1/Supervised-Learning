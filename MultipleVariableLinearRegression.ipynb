{
 "cells": [
  {
   "cell_type": "markdown",
   "metadata": {},
   "source": [
    "# LINEAR REGRESSION IN MULTIPLE VARIABLES (VECTORIZED/ MATRIX FORM) FROM SCRATCH IN PYTHON "
   ]
  },
  {
   "cell_type": "code",
   "execution_count": 19,
   "metadata": {},
   "outputs": [],
   "source": [
    "import pandas as pd\n",
    "import numpy as np\n",
    "import matplotlib.pyplot as pt\n",
    "from sklearn.metrics import mean_squared_error"
   ]
  },
  {
   "cell_type": "code",
   "execution_count": 20,
   "metadata": {},
   "outputs": [],
   "source": [
    "train=pd.read_csv('/home/atul/Downloads/train.csv')\n",
    "test=pd.read_csv('/home/atul/Downloads/test1.csv')"
   ]
  },
  {
   "cell_type": "code",
   "execution_count": 21,
   "metadata": {},
   "outputs": [
    {
     "data": {
      "text/html": [
       "<div>\n",
       "<style scoped>\n",
       "    .dataframe tbody tr th:only-of-type {\n",
       "        vertical-align: middle;\n",
       "    }\n",
       "\n",
       "    .dataframe tbody tr th {\n",
       "        vertical-align: top;\n",
       "    }\n",
       "\n",
       "    .dataframe thead th {\n",
       "        text-align: right;\n",
       "    }\n",
       "</style>\n",
       "<table border=\"1\" class=\"dataframe\">\n",
       "  <thead>\n",
       "    <tr style=\"text-align: right;\">\n",
       "      <th></th>\n",
       "      <th>AT</th>\n",
       "      <th>V</th>\n",
       "      <th>AP</th>\n",
       "      <th>RH</th>\n",
       "      <th>PE</th>\n",
       "    </tr>\n",
       "  </thead>\n",
       "  <tbody>\n",
       "    <tr>\n",
       "      <th>0</th>\n",
       "      <td>8.34</td>\n",
       "      <td>40.77</td>\n",
       "      <td>1010.84</td>\n",
       "      <td>90.01</td>\n",
       "      <td>480.48</td>\n",
       "    </tr>\n",
       "    <tr>\n",
       "      <th>1</th>\n",
       "      <td>23.64</td>\n",
       "      <td>58.49</td>\n",
       "      <td>1011.40</td>\n",
       "      <td>74.20</td>\n",
       "      <td>445.75</td>\n",
       "    </tr>\n",
       "    <tr>\n",
       "      <th>2</th>\n",
       "      <td>29.74</td>\n",
       "      <td>56.90</td>\n",
       "      <td>1007.15</td>\n",
       "      <td>41.91</td>\n",
       "      <td>438.76</td>\n",
       "    </tr>\n",
       "    <tr>\n",
       "      <th>3</th>\n",
       "      <td>19.07</td>\n",
       "      <td>49.69</td>\n",
       "      <td>1007.22</td>\n",
       "      <td>76.79</td>\n",
       "      <td>453.09</td>\n",
       "    </tr>\n",
       "    <tr>\n",
       "      <th>4</th>\n",
       "      <td>11.80</td>\n",
       "      <td>40.66</td>\n",
       "      <td>1017.13</td>\n",
       "      <td>97.20</td>\n",
       "      <td>464.43</td>\n",
       "    </tr>\n",
       "  </tbody>\n",
       "</table>\n",
       "</div>"
      ],
      "text/plain": [
       "      AT      V       AP     RH      PE\n",
       "0   8.34  40.77  1010.84  90.01  480.48\n",
       "1  23.64  58.49  1011.40  74.20  445.75\n",
       "2  29.74  56.90  1007.15  41.91  438.76\n",
       "3  19.07  49.69  1007.22  76.79  453.09\n",
       "4  11.80  40.66  1017.13  97.20  464.43"
      ]
     },
     "execution_count": 21,
     "metadata": {},
     "output_type": "execute_result"
    }
   ],
   "source": [
    "train.head() #1st 5 rows of train"
   ]
  },
  {
   "cell_type": "code",
   "execution_count": 22,
   "metadata": {},
   "outputs": [
    {
     "data": {
      "text/html": [
       "<div>\n",
       "<style scoped>\n",
       "    .dataframe tbody tr th:only-of-type {\n",
       "        vertical-align: middle;\n",
       "    }\n",
       "\n",
       "    .dataframe tbody tr th {\n",
       "        vertical-align: top;\n",
       "    }\n",
       "\n",
       "    .dataframe thead th {\n",
       "        text-align: right;\n",
       "    }\n",
       "</style>\n",
       "<table border=\"1\" class=\"dataframe\">\n",
       "  <thead>\n",
       "    <tr style=\"text-align: right;\">\n",
       "      <th></th>\n",
       "      <th>AT</th>\n",
       "      <th>V</th>\n",
       "      <th>AP</th>\n",
       "      <th>RH</th>\n",
       "      <th>PE</th>\n",
       "    </tr>\n",
       "  </thead>\n",
       "  <tbody>\n",
       "    <tr>\n",
       "      <th>0</th>\n",
       "      <td>8.67</td>\n",
       "      <td>40.77</td>\n",
       "      <td>1011.81</td>\n",
       "      <td>89.40</td>\n",
       "      <td>479.23</td>\n",
       "    </tr>\n",
       "    <tr>\n",
       "      <th>1</th>\n",
       "      <td>10.53</td>\n",
       "      <td>37.50</td>\n",
       "      <td>1008.55</td>\n",
       "      <td>99.91</td>\n",
       "      <td>472.32</td>\n",
       "    </tr>\n",
       "    <tr>\n",
       "      <th>2</th>\n",
       "      <td>7.99</td>\n",
       "      <td>41.38</td>\n",
       "      <td>1021.95</td>\n",
       "      <td>78.77</td>\n",
       "      <td>487.57</td>\n",
       "    </tr>\n",
       "    <tr>\n",
       "      <th>3</th>\n",
       "      <td>22.29</td>\n",
       "      <td>45.01</td>\n",
       "      <td>1012.40</td>\n",
       "      <td>51.58</td>\n",
       "      <td>449.08</td>\n",
       "    </tr>\n",
       "    <tr>\n",
       "      <th>4</th>\n",
       "      <td>9.06</td>\n",
       "      <td>36.30</td>\n",
       "      <td>1015.14</td>\n",
       "      <td>58.71</td>\n",
       "      <td>477.38</td>\n",
       "    </tr>\n",
       "  </tbody>\n",
       "</table>\n",
       "</div>"
      ],
      "text/plain": [
       "      AT      V       AP     RH      PE\n",
       "0   8.67  40.77  1011.81  89.40  479.23\n",
       "1  10.53  37.50  1008.55  99.91  472.32\n",
       "2   7.99  41.38  1021.95  78.77  487.57\n",
       "3  22.29  45.01  1012.40  51.58  449.08\n",
       "4   9.06  36.30  1015.14  58.71  477.38"
      ]
     },
     "execution_count": 22,
     "metadata": {},
     "output_type": "execute_result"
    }
   ],
   "source": [
    "test.head() #1st 5 rows of tests"
   ]
  },
  {
   "cell_type": "markdown",
   "metadata": {},
   "source": [
    "# Algorithms"
   ]
  },
  {
   "cell_type": "markdown",
   "metadata": {},
   "source": [
    "error_thres = Error Threshold  \n",
    "maxi = max. no. of iterations   \n",
    "s = step size or learning rate  \n",
    "theta = parameter array(to learn) Initialized with random float values between 0 and 1  \n",
    "J = cost Function    \n",
    "Jval = list of error values  \n",
    "m = no. of training examples"
   ]
  },
  {
   "cell_type": "code",
   "execution_count": 23,
   "metadata": {},
   "outputs": [],
   "source": [
    "def linearRegression(error_thres,maxi,s):\n",
    "    Jval = []\n",
    "    theta=np.matrix([np.random.uniform(0,1),np.random.uniform(0,1),np.random.uniform(0,1),np.random.uniform(0,1),np.random.uniform(0,1)])   \n",
    "    for i in range(maxi):\n",
    "        Y=theta.dot(X)\n",
    "        J=(((1/(2*len(Y)))*np.sum(np.square(Y-yTrainTarget))))\n",
    "        Jval.append(J)\n",
    "        if(J<error_thres or (len(Jval)>10 and np.mean(Jval[-10:])==Jval[-1])):\n",
    "            break\n",
    "        else:\n",
    "            theta=gradientDescent(X,yTrainTarget,theta.T,s).T\n",
    "    return(theta, Jval)"
   ]
  },
  {
   "cell_type": "code",
   "execution_count": 24,
   "metadata": {},
   "outputs": [],
   "source": [
    "def gradientDescent(A,B,theta,s):\n",
    "        t=s/m\n",
    "        theta=theta-(t*(((theta.T.dot(A))-B).dot(A.T)).T)\n",
    "        return(theta)"
   ]
  },
  {
   "cell_type": "markdown",
   "metadata": {},
   "source": [
    "# Training"
   ]
  },
  {
   "cell_type": "code",
   "execution_count": 25,
   "metadata": {},
   "outputs": [
    {
     "data": {
      "text/plain": [
       "299"
      ]
     },
     "execution_count": 25,
     "metadata": {},
     "output_type": "execute_result"
    }
   ],
   "source": [
    "m=len(train) #no. of training examples\n",
    "m"
   ]
  },
  {
   "cell_type": "markdown",
   "metadata": {},
   "source": [
    "## Converting Train Data Frames in matrix form"
   ]
  },
  {
   "cell_type": "code",
   "execution_count": 26,
   "metadata": {},
   "outputs": [
    {
     "data": {
      "text/plain": [
       "array([[8.34000e+00, 2.36400e+01, 2.97400e+01, ..., 3.05900e+01,\n",
       "        1.40400e+01, 1.54700e+01],\n",
       "       [4.07700e+01, 5.84900e+01, 5.69000e+01, ..., 7.00400e+01,\n",
       "        4.87900e+01, 4.49000e+01],\n",
       "       [1.01084e+03, 1.01140e+03, 1.00715e+03, ..., 1.01028e+03,\n",
       "        1.01762e+03, 1.02159e+03],\n",
       "       [9.00100e+01, 7.42000e+01, 4.19100e+01, ..., 5.05600e+01,\n",
       "        7.52500e+01, 8.17400e+01],\n",
       "       [1.00000e+00, 1.00000e+00, 1.00000e+00, ..., 1.00000e+00,\n",
       "        1.00000e+00, 1.00000e+00]])"
      ]
     },
     "execution_count": 26,
     "metadata": {},
     "output_type": "execute_result"
    }
   ],
   "source": [
    "trd=train.T \n",
    "m=len(train)\n",
    "X=np.array([trd.iloc[0].values,trd.iloc[1].values,trd.iloc[2].values,trd.iloc[3].values,np.ones(m)])\n",
    "X"
   ]
  },
  {
   "cell_type": "markdown",
   "metadata": {},
   "source": [
    "## True target values"
   ]
  },
  {
   "cell_type": "code",
   "execution_count": 27,
   "metadata": {},
   "outputs": [
    {
     "data": {
      "text/plain": [
       "array([480.48, 445.75, 438.76, 453.09, 464.43, 470.96, 442.35, 464.  ,\n",
       "       428.77, 484.31, 435.29, 451.41, 426.25, 480.66, 460.17, 453.13,\n",
       "       461.71, 471.08, 473.74, 448.56, 464.82, 427.28, 441.76, 474.71,\n",
       "       467.21, 487.69, 438.67, 485.66, 452.16, 429.87, 468.82, 442.85,\n",
       "       483.26, 433.59, 433.04, 458.6 , 435.14, 443.2 , 477.9 , 445.26,\n",
       "       435.57, 447.42, 462.28, 441.81, 454.16, 437.24, 464.11, 440.89,\n",
       "       485.2 , 445.34, 440.  , 431.35, 456.32, 432.98, 429.41, 464.95,\n",
       "       481.91, 437.15, 462.6 , 432.43, 442.22, 441.03, 468.91, 432.46,\n",
       "       430.07, 437.78, 483.12, 462.19, 457.71, 438.32, 434.35, 427.05,\n",
       "       448.69, 475.88, 479.28, 446.85, 434.99, 441.5 , 433.26, 430.46,\n",
       "       455.14, 431.26, 437.76, 464.63, 462.58, 483.27, 438.51, 431.03,\n",
       "       484.  , 431.64, 451.78, 439.46, 467.23, 459.81, 447.15, 442.  ,\n",
       "       449.61, 481.28, 437.54, 475.52, 458.68, 436.76, 446.08, 474.35,\n",
       "       481.96, 479.66, 435.28, 434.86, 435.72, 454.14, 455.76, 442.83,\n",
       "       449.47, 445.76, 473.57, 435.75, 437.96, 438.59, 444.21, 459.47,\n",
       "       465.54, 458.85, 435.68, 449.2 , 445.43, 453.96, 463.93, 465.82,\n",
       "       471.6 , 427.72, 468.54, 434.08, 454.57, 489.79, 481.78, 443.57,\n",
       "       457.9 , 472.16, 451.19, 470.33, 486.68, 472.68, 445.72, 466.58,\n",
       "       436.99, 470.87, 457.77, 448.15, 476.03, 442.87, 477.93, 459.06,\n",
       "       456.18, 473.62, 473.64, 463.64, 462.44, 454.39, 452.06, 453.31,\n",
       "       466.93, 436.37, 458.87, 470.67, 475.54, 432.72, 441.41, 472.9 ,\n",
       "       457.83, 462.05, 445.3 , 435.94, 472.71, 464.5 , 449.77, 435.04,\n",
       "       472.47, 459.31, 434.62, 435.34, 430.64, 447.16, 471.72, 470.41,\n",
       "       468.37, 483.59, 432.74, 438.11, 484.75, 445.01, 445.82, 452.47,\n",
       "       459.76, 445.3 , 486.9 , 454.89, 441.19, 440.5 , 435.04, 472.16,\n",
       "       442.16, 442.49, 456.55, 431.03, 471.42, 463.34, 433.97, 487.  ,\n",
       "       480.19, 479.56, 470.03, 429.57, 489.26, 435.62, 443.84, 463.76,\n",
       "       447.26, 430.3 , 475.01, 445.11, 450.35, 446.14, 439.04, 438.46,\n",
       "       468.57, 461.55, 468.02, 447.18, 444.69, 474.1 , 428.27, 425.18,\n",
       "       460.6 , 436.21, 476.25, 461.08, 460.3 , 435.04, 453.86, 484.78,\n",
       "       440.48, 452.17, 434.47, 436.8 , 459.76, 468.85, 468.81, 454.29,\n",
       "       442.8 , 445.52, 447.43, 437.31, 477.03, 456.57, 440.03, 466.24,\n",
       "       440.21, 475.17, 466.95, 457.81, 433.34, 485.19, 450.96, 446.05,\n",
       "       449.23, 469.31, 479.01, 432.46, 458.59, 440.13, 442.9 , 432.43,\n",
       "       455.07, 431.99, 439.22, 433.14, 483.95, 427.94, 435.61, 478.29,\n",
       "       453.08, 463.14, 480.96, 460.38, 437.19, 478.02, 456.07, 434.01,\n",
       "       476.99, 435.31, 432.85, 453.8 , 431.33, 431.69, 435.66, 488.05,\n",
       "       429.13, 464.09, 465.61])"
      ]
     },
     "execution_count": 27,
     "metadata": {},
     "output_type": "execute_result"
    }
   ],
   "source": [
    "yTrainTarget=trd.iloc[4].values\n",
    "yTrainTarget "
   ]
  },
  {
   "cell_type": "markdown",
   "metadata": {},
   "source": [
    "### Learnt parameter values"
   ]
  },
  {
   "cell_type": "code",
   "execution_count": 28,
   "metadata": {},
   "outputs": [
    {
     "data": {
      "text/plain": [
       "matrix([[0.23081323, 0.19512419, 0.4076704 , 0.35731001, 0.0879259 ]])"
      ]
     },
     "execution_count": 28,
     "metadata": {},
     "output_type": "execute_result"
    }
   ],
   "source": [
    "theta,Jval=linearRegression(0.001,1000,0.000001)\n",
    "theta"
   ]
  },
  {
   "cell_type": "code",
   "execution_count": 29,
   "metadata": {},
   "outputs": [
    {
     "data": {
      "text/plain": [
       "Text(0, 0.5, 'Error or Cost Function')"
      ]
     },
     "execution_count": 29,
     "metadata": {},
     "output_type": "execute_result"
    },
    {
     "data": {
      "image/png": "[encoded data removed]",
      "text/plain": [
       "<Figure size 432x288 with 1 Axes>"
      ]
     },
     "metadata": {
      "needs_background": "light"
     },
     "output_type": "display_data"
    }
   ],
   "source": [
    "pt.plot(range(len(Jval)),Jval)\n",
    "pt.title('Error vs no. of iterations curve for Training')\n",
    "pt.xlabel('No. of Iterations')\n",
    "pt.ylabel('Error or Cost Function')"
   ]
  },
  {
   "cell_type": "code",
   "execution_count": 30,
   "metadata": {},
   "outputs": [
    {
     "data": {
      "text/plain": [
       "matrix([[454.21914427, 455.78741144, 443.61498513, 452.23687277,\n",
       "         460.12960023, 455.39538845, 457.04662919, 456.22385444,\n",
       "         445.87267248, 453.01586892, 455.25365718, 445.64869867,\n",
       "         454.52973613, 449.34040663, 448.42719401, 455.69785907,\n",
       "         442.50460181, 458.19450042, 450.13161507, 435.64264522,\n",
       "         455.14434155, 447.8649087 , 456.84172499, 459.1258824 ,\n",
       "         453.58355448, 454.1766689 , 456.79601712, 457.91170764,\n",
       "         452.01452284, 451.09775441, 450.75081892, 458.58207763,\n",
       "         454.15165788, 450.48035898, 449.44167494, 452.45675859,\n",
       "         462.4251761 , 458.30739049, 452.74333919, 453.83367051,\n",
       "         453.08835284, 459.45889003, 439.67283626, 449.63446492,\n",
       "         461.26280409, 453.81652156, 451.73425549, 447.77946694,\n",
       "         451.4666887 , 454.98068754, 462.78483019, 445.60722465,\n",
       "         450.49335012, 460.07561776, 452.5501909 , 453.79383163,\n",
       "         452.74072974, 457.66696902, 459.25847738, 456.88600529,\n",
       "         457.22078091, 448.47345928, 452.22685943, 453.39086319,\n",
       "         449.65060359, 455.29782736, 460.30433273, 452.86195895,\n",
       "         460.20351719, 453.58330197, 453.6259215 , 450.09013073,\n",
       "         463.81881123, 454.61199464, 455.9857564 , 442.95658964,\n",
       "         454.82837938, 455.98549277, 455.88088714, 459.90156591,\n",
       "         462.9158092 , 455.66147427, 444.68884012, 453.44035521,\n",
       "         449.86443249, 447.08027437, 463.00246222, 457.16417106,\n",
       "         451.96766182, 454.60921655, 454.07543488, 454.92492323,\n",
       "         439.38417711, 443.53293666, 454.61764958, 453.50359333,\n",
       "         459.85769057, 461.88866127, 448.54073974, 458.59051148,\n",
       "         459.51611675, 450.95756675, 458.5210603 , 450.33127658,\n",
       "         455.1755573 , 456.19191082, 457.33509657, 463.68635077,\n",
       "         454.55176162, 459.27081986, 449.93882717, 461.95040241,\n",
       "         459.85741406, 457.49269817, 449.28843166, 444.52519853,\n",
       "         461.54351154, 458.21655121, 460.10457177, 451.28265592,\n",
       "         455.47592973, 455.15046394, 462.66763496, 447.47918637,\n",
       "         462.23208279, 440.61371549, 451.85387431, 455.25858503,\n",
       "         459.03648724, 454.0969123 , 448.0182352 , 459.28670325,\n",
       "         457.28014116, 458.2474585 , 452.51791604, 457.11396189,\n",
       "         453.75595698, 462.14877542, 459.94938479, 449.93074776,\n",
       "         450.75486913, 454.80991414, 448.90356928, 458.19529392,\n",
       "         452.95658984, 451.44062378, 454.39273216, 450.96731095,\n",
       "         456.25302086, 457.97367222, 446.8913988 , 444.72525842,\n",
       "         447.08735093, 462.02666587, 463.52508093, 456.55141323,\n",
       "         449.95049723, 451.44644383, 453.46740212, 455.95388468,\n",
       "         456.68129984, 445.08994046, 452.96948634, 444.7872257 ,\n",
       "         447.2283732 , 458.20531454, 455.04251599, 456.88936395,\n",
       "         454.72051502, 451.65792865, 449.07828334, 443.67601621,\n",
       "         455.4891956 , 448.48272809, 463.80917053, 454.82868328,\n",
       "         456.05334926, 446.89863983, 451.2449589 , 447.36597556,\n",
       "         455.01327699, 454.56981489, 445.05450271, 452.97103066,\n",
       "         458.64377015, 458.42380011, 464.1465986 , 463.25138062,\n",
       "         450.5068826 , 457.70224644, 460.76083663, 452.26458536,\n",
       "         454.34184691, 456.277045  , 451.77137225, 457.91644683,\n",
       "         463.01829632, 459.13204852, 452.51102221, 450.25839686,\n",
       "         449.16686083, 450.49338113, 442.22088769, 451.40087244,\n",
       "         450.62400877, 458.74773735, 462.92957892, 451.43530893,\n",
       "         459.50507065, 455.44717648, 446.87360504, 447.79274945,\n",
       "         448.66622427, 448.97169014, 450.0651655 , 453.54844942,\n",
       "         454.27969576, 457.92084171, 455.70065728, 449.31965812,\n",
       "         461.26839958, 453.34946137, 460.14479818, 455.93201334,\n",
       "         452.96566095, 455.09459703, 451.80692493, 460.29821373,\n",
       "         443.2697262 , 452.75542182, 455.90459875, 445.77629611,\n",
       "         437.60053262, 450.65832994, 454.48286213, 443.77353955,\n",
       "         448.97433915, 457.81739223, 452.05427326, 451.33814369,\n",
       "         457.05717527, 456.56615828, 451.51826398, 461.39903504,\n",
       "         446.84343321, 460.51709082, 454.57939381, 462.07366509,\n",
       "         454.61625044, 457.32311512, 457.19648161, 454.80262472,\n",
       "         451.18915407, 447.46195571, 452.12727392, 456.23503447,\n",
       "         457.58591103, 458.92264567, 446.36080124, 453.61111462,\n",
       "         459.02819548, 451.47885002, 451.51736218, 452.89298802,\n",
       "         457.84367168, 451.71377628, 457.35942766, 447.74017622,\n",
       "         446.34085357, 448.46683579, 462.04056887, 456.61440398,\n",
       "         457.62902062, 449.75879033, 449.8445411 , 460.66912812,\n",
       "         447.95806711, 455.21773807, 442.39731673, 447.48237243,\n",
       "         450.47535678, 453.11393428, 457.9517091 , 454.45814012,\n",
       "         462.05321375, 455.7996383 , 458.089967  , 453.96787862,\n",
       "         451.97054024, 455.13426229, 460.60255581, 459.04940764,\n",
       "         447.17058424, 453.770705  , 462.15931551, 451.91388885,\n",
       "         450.74184818, 454.58978519, 458.09820852]])"
      ]
     },
     "execution_count": 30,
     "metadata": {},
     "output_type": "execute_result"
    }
   ],
   "source": [
    "yPredTrain = theta.dot(X)\n",
    "yPredTrain"
   ]
  },
  {
   "cell_type": "code",
   "execution_count": 31,
   "metadata": {},
   "outputs": [
    {
     "data": {
      "text/plain": [
       "matrix([[454.21914427, 455.78741144, 443.61498513, 452.23687277,\n",
       "         460.12960023, 455.39538845, 457.04662919, 456.22385444,\n",
       "         445.87267248, 453.01586892, 455.25365718, 445.64869867,\n",
       "         454.52973613, 449.34040663, 448.42719401, 455.69785907,\n",
       "         442.50460181, 458.19450042, 450.13161507, 435.64264522,\n",
       "         455.14434155, 447.8649087 , 456.84172499, 459.1258824 ,\n",
       "         453.58355448, 454.1766689 , 456.79601712, 457.91170764,\n",
       "         452.01452284, 451.09775441, 450.75081892, 458.58207763,\n",
       "         454.15165788, 450.48035898, 449.44167494, 452.45675859,\n",
       "         462.4251761 , 458.30739049, 452.74333919, 453.83367051,\n",
       "         453.08835284, 459.45889003, 439.67283626, 449.63446492,\n",
       "         461.26280409, 453.81652156, 451.73425549, 447.77946694,\n",
       "         451.4666887 , 454.98068754, 462.78483019, 445.60722465,\n",
       "         450.49335012, 460.07561776, 452.5501909 , 453.79383163,\n",
       "         452.74072974, 457.66696902, 459.25847738, 456.88600529,\n",
       "         457.22078091, 448.47345928, 452.22685943, 453.39086319,\n",
       "         449.65060359, 455.29782736, 460.30433273, 452.86195895,\n",
       "         460.20351719, 453.58330197, 453.6259215 , 450.09013073,\n",
       "         463.81881123, 454.61199464, 455.9857564 , 442.95658964,\n",
       "         454.82837938, 455.98549277, 455.88088714, 459.90156591,\n",
       "         462.9158092 , 455.66147427, 444.68884012, 453.44035521,\n",
       "         449.86443249, 447.08027437, 463.00246222, 457.16417106,\n",
       "         451.96766182, 454.60921655, 454.07543488, 454.92492323,\n",
       "         439.38417711, 443.53293666, 454.61764958, 453.50359333,\n",
       "         459.85769057, 461.88866127, 448.54073974, 458.59051148,\n",
       "         459.51611675, 450.95756675, 458.5210603 , 450.33127658,\n",
       "         455.1755573 , 456.19191082, 457.33509657, 463.68635077,\n",
       "         454.55176162, 459.27081986, 449.93882717, 461.95040241,\n",
       "         459.85741406, 457.49269817, 449.28843166, 444.52519853,\n",
       "         461.54351154, 458.21655121, 460.10457177, 451.28265592,\n",
       "         455.47592973, 455.15046394, 462.66763496, 447.47918637,\n",
       "         462.23208279, 440.61371549, 451.85387431, 455.25858503,\n",
       "         459.03648724, 454.0969123 , 448.0182352 , 459.28670325,\n",
       "         457.28014116, 458.2474585 , 452.51791604, 457.11396189,\n",
       "         453.75595698, 462.14877542, 459.94938479, 449.93074776,\n",
       "         450.75486913, 454.80991414, 448.90356928, 458.19529392,\n",
       "         452.95658984, 451.44062378, 454.39273216, 450.96731095,\n",
       "         456.25302086, 457.97367222, 446.8913988 , 444.72525842,\n",
       "         447.08735093, 462.02666587, 463.52508093, 456.55141323,\n",
       "         449.95049723, 451.44644383, 453.46740212, 455.95388468,\n",
       "         456.68129984, 445.08994046, 452.96948634, 444.7872257 ,\n",
       "         447.2283732 , 458.20531454, 455.04251599, 456.88936395,\n",
       "         454.72051502, 451.65792865, 449.07828334, 443.67601621,\n",
       "         455.4891956 , 448.48272809, 463.80917053, 454.82868328,\n",
       "         456.05334926, 446.89863983, 451.2449589 , 447.36597556,\n",
       "         455.01327699, 454.56981489, 445.05450271, 452.97103066,\n",
       "         458.64377015, 458.42380011, 464.1465986 , 463.25138062,\n",
       "         450.5068826 , 457.70224644, 460.76083663, 452.26458536,\n",
       "         454.34184691, 456.277045  , 451.77137225, 457.91644683,\n",
       "         463.01829632, 459.13204852, 452.51102221, 450.25839686,\n",
       "         449.16686083, 450.49338113, 442.22088769, 451.40087244,\n",
       "         450.62400877, 458.74773735, 462.92957892, 451.43530893,\n",
       "         459.50507065, 455.44717648, 446.87360504, 447.79274945,\n",
       "         448.66622427, 448.97169014, 450.0651655 , 453.54844942,\n",
       "         454.27969576, 457.92084171, 455.70065728, 449.31965812,\n",
       "         461.26839958, 453.34946137, 460.14479818, 455.93201334,\n",
       "         452.96566095, 455.09459703, 451.80692493, 460.29821373,\n",
       "         443.2697262 , 452.75542182, 455.90459875, 445.77629611,\n",
       "         437.60053262, 450.65832994, 454.48286213, 443.77353955,\n",
       "         448.97433915, 457.81739223, 452.05427326, 451.33814369,\n",
       "         457.05717527, 456.56615828, 451.51826398, 461.39903504,\n",
       "         446.84343321, 460.51709082, 454.57939381, 462.07366509,\n",
       "         454.61625044, 457.32311512, 457.19648161, 454.80262472,\n",
       "         451.18915407, 447.46195571, 452.12727392, 456.23503447,\n",
       "         457.58591103, 458.92264567, 446.36080124, 453.61111462,\n",
       "         459.02819548, 451.47885002, 451.51736218, 452.89298802,\n",
       "         457.84367168, 451.71377628, 457.35942766, 447.74017622,\n",
       "         446.34085357, 448.46683579, 462.04056887, 456.61440398,\n",
       "         457.62902062, 449.75879033, 449.8445411 , 460.66912812,\n",
       "         447.95806711, 455.21773807, 442.39731673, 447.48237243,\n",
       "         450.47535678, 453.11393428, 457.9517091 , 454.45814012,\n",
       "         462.05321375, 455.7996383 , 458.089967  , 453.96787862,\n",
       "         451.97054024, 455.13426229, 460.60255581, 459.04940764,\n",
       "         447.17058424, 453.770705  , 462.15931551, 451.91388885,\n",
       "         450.74184818, 454.58978519, 458.09820852]])"
      ]
     },
     "execution_count": 31,
     "metadata": {},
     "output_type": "execute_result"
    }
   ],
   "source": [
    "yPredTrain"
   ]
  },
  {
   "cell_type": "markdown",
   "metadata": {},
   "source": [
    "### Root Mean Squared Error for Train"
   ]
  },
  {
   "cell_type": "code",
   "execution_count": 32,
   "metadata": {},
   "outputs": [
    {
     "data": {
      "text/plain": [
       "18.33520347139191"
      ]
     },
     "execution_count": 32,
     "metadata": {},
     "output_type": "execute_result"
    }
   ],
   "source": [
    "np.sqrt(mean_squared_error(yTrainTarget,yPredTrain.T))"
   ]
  },
  {
   "cell_type": "markdown",
   "metadata": {},
   "source": [
    "# Testing"
   ]
  },
  {
   "cell_type": "markdown",
   "metadata": {},
   "source": [
    "## preparing Test Data"
   ]
  },
  {
   "cell_type": "code",
   "execution_count": 33,
   "metadata": {},
   "outputs": [
    {
     "data": {
      "text/plain": [
       "(5, 200)"
      ]
     },
     "execution_count": 33,
     "metadata": {},
     "output_type": "execute_result"
    }
   ],
   "source": [
    "tsd=test.T \n",
    "m=len(test)\n",
    "Xtest=np.array([tsd.iloc[0].values,tsd.iloc[1].values,tsd.iloc[2].values,tsd.iloc[3].values,np.ones(m)])\n",
    "Xtest.shape"
   ]
  },
  {
   "cell_type": "code",
   "execution_count": 34,
   "metadata": {},
   "outputs": [
    {
     "data": {
      "text/plain": [
       "array([479.23, 472.32, 487.57, 449.08, 477.38, 474.16, 454.25, 429.85,\n",
       "       462.98, 434.04, 470.84, 488.65, 473.94, 437.42, 457.12, 457.49,\n",
       "       443.41, 445.27, 436.74, 487.33, 434.43, 437.14, 439.96, 442.58,\n",
       "       436.88, 441.94, 438.62, 470.55, 441.76, 450.88, 482.89, 454.41,\n",
       "       479.15, 458.67, 446.91, 466.52, 444.16, 489.09, 475.01, 471.43,\n",
       "       455.24, 445.49, 430.56, 471.78, 443.15, 475.  , 474.22, 445.71,\n",
       "       491.29, 437.87, 467.44, 437.14, 448.24, 447.2 , 478.12, 465.44,\n",
       "       445.65, 437.4 , 455.66, 445.83, 449.36, 436.26, 452.99, 431.72,\n",
       "       481.83, 433.08, 446.87, 463.03, 440.77, 430.91, 445.93, 430.34,\n",
       "       462.46, 460.08, 441.76, 449.66, 436.38, 452.07, 467.35, 473.87,\n",
       "       460.7 , 479.53, 467.46, 440.27, 454.32, 442.48, 435.76, 439.56,\n",
       "       467.  , 462.6 , 472.16, 448.46, 434.11, 449.74, 439.29, 473.2 ,\n",
       "       437.62, 491.49, 495.23, 442.75, 480.74, 461.38, 461.74, 489.54,\n",
       "       477.61, 461.49, 474.93, 447.89, 481.02, 470.68, 440.92, 453.38,\n",
       "       458.68, 433.82, 473.72, 482.37, 443.39, 449.93, 443.31, 443.63,\n",
       "       438.9 , 446.72, 449.68, 461.54, 451.97, 444.53, 479.61, 453.76,\n",
       "       430.28, 442.39, 474.57, 466.33, 433.72, 460.44, 445.04, 432.85,\n",
       "       439.37, 457.09, 488.8 , 433.63, 445.1 , 433.01, 453.45, 454.46,\n",
       "       473.09, 441.53, 479.15, 438.18, 443.3 , 447.45, 469.25, 476.67,\n",
       "       460.01, 432.3 , 454.01, 436.64, 450.23, 458.55, 481.08, 460.57,\n",
       "       478.24, 431.83, 469.33, 428.62, 434.12, 442.77, 467.42, 447.8 ,\n",
       "       436.19, 441.56, 463.33, 470.53, 447.28, 450.7 , 432.78, 451.09,\n",
       "       438.23, 457.07, 438.44, 473.43, 437.39, 450.86, 435.12, 477.05,\n",
       "       432.6 , 432.43, 486.46, 468.14, 429.08, 443.7 , 477.65, 433.84,\n",
       "       442.65, 478.44, 447.18, 446.26, 472.67, 461.6 , 443.71, 430.16])"
      ]
     },
     "execution_count": 34,
     "metadata": {},
     "output_type": "execute_result"
    }
   ],
   "source": [
    "yTestTarget=tsd.iloc[4].values\n",
    "yTestTarget "
   ]
  },
  {
   "cell_type": "markdown",
   "metadata": {},
   "source": [
    "## Applying Learned theta values from Trained model on test data to predict values"
   ]
  },
  {
   "cell_type": "code",
   "execution_count": 35,
   "metadata": {},
   "outputs": [
    {
     "data": {
      "text/plain": [
       "matrix([[454.47279382, 456.69037309, 454.77043899, 445.1708574 ,\n",
       "         444.08230395, 449.62270822, 447.31867166, 453.53341203,\n",
       "         458.53748801, 462.76147084, 445.47626944, 455.86398893,\n",
       "         449.32459242, 460.99627706, 457.83950789, 452.77583638,\n",
       "         454.64038239, 459.16889134, 461.0530285 , 451.44839636,\n",
       "         453.63080424, 457.10916975, 453.55977871, 448.99800888,\n",
       "         450.79159986, 444.32099375, 464.4317204 , 457.96340855,\n",
       "         453.69143739, 443.75592802, 455.63336554, 452.71906154,\n",
       "         448.75959215, 446.8668009 , 458.10084488, 458.08977598,\n",
       "         453.88830232, 452.16177441, 461.83832303, 446.58134056,\n",
       "         460.64468969, 443.75609382, 443.06034687, 448.53469605,\n",
       "         450.61823516, 453.51324894, 455.09739057, 452.78591498,\n",
       "         448.5266233 , 452.72126445, 456.19493869, 455.70632137,\n",
       "         456.11016406, 448.22592172, 461.3173877 , 460.19666432,\n",
       "         456.49660161, 453.86972788, 449.27705293, 463.4106558 ,\n",
       "         465.33984779, 451.99512161, 457.81131651, 451.64339339,\n",
       "         454.00302666, 463.76561145, 455.15360484, 460.11711723,\n",
       "         449.70096907, 452.98851176, 459.72771294, 459.51402122,\n",
       "         454.23742163, 456.3645903 , 459.37358157, 453.97929734,\n",
       "         452.7049757 , 456.70796214, 452.6031533 , 458.89573997,\n",
       "         454.79885861, 453.100492  , 454.44602506, 449.55418421,\n",
       "         459.20347734, 452.34139787, 446.17202723, 452.64145508,\n",
       "         445.26302762, 459.99379514, 453.050737  , 454.24806421,\n",
       "         452.47489036, 449.20620315, 462.63648362, 450.72449284,\n",
       "         456.49603982, 455.0805781 , 448.92003029, 458.61889346,\n",
       "         454.82410013, 454.67979177, 455.22584173, 455.41176451,\n",
       "         462.33211463, 451.74441056, 453.80830716, 449.92919397,\n",
       "         453.73466478, 455.57835803, 453.90933729, 436.52722019,\n",
       "         450.50853835, 455.24230609, 455.76165175, 446.88629874,\n",
       "         461.821953  , 458.22467311, 454.39148945, 456.21070675,\n",
       "         450.57688863, 449.53444113, 454.22902316, 452.75148523,\n",
       "         454.58456655, 464.62823521, 456.31189151, 460.75789872,\n",
       "         461.90919023, 455.34058619, 455.53100557, 441.00820527,\n",
       "         463.45962349, 454.86968913, 453.56426415, 455.51997165,\n",
       "         459.81787251, 448.94384458, 454.63152714, 457.63657206,\n",
       "         453.57200307, 457.2926417 , 442.56808201, 455.35446982,\n",
       "         455.63069048, 456.84508155, 455.70427911, 452.2483442 ,\n",
       "         462.59760581, 464.24720832, 457.68283943, 458.52208776,\n",
       "         460.40253202, 452.15825907, 457.10893672, 462.27359139,\n",
       "         462.96514997, 457.39325787, 451.65190978, 457.52157122,\n",
       "         454.14101227, 456.62670296, 449.10004251, 447.77733047,\n",
       "         455.9117127 , 455.4363231 , 455.81583325, 456.66232005,\n",
       "         456.38337238, 459.30214024, 439.47622048, 453.46945875,\n",
       "         457.5883794 , 458.70795839, 449.15230632, 451.47790356,\n",
       "         457.74818913, 456.03832194, 453.62380037, 455.3969908 ,\n",
       "         454.8059935 , 447.1398312 , 463.39147187, 458.72844146,\n",
       "         453.14098895, 459.3103472 , 454.2963536 , 458.65618767,\n",
       "         450.61087722, 455.74185616, 448.62050333, 453.39674616,\n",
       "         459.50181791, 454.98317927, 458.36788785, 446.58029919,\n",
       "         446.668824  , 450.78209964, 453.26361769, 452.40425619]])"
      ]
     },
     "execution_count": 35,
     "metadata": {},
     "output_type": "execute_result"
    }
   ],
   "source": [
    "yPredTest = theta.dot(Xtest)\n",
    "yPredTest"
   ]
  },
  {
   "cell_type": "markdown",
   "metadata": {},
   "source": [
    "### Root Mean Squared Error for Test\n"
   ]
  },
  {
   "cell_type": "code",
   "execution_count": 36,
   "metadata": {},
   "outputs": [
    {
     "data": {
      "text/plain": [
       "18.466233853997778"
      ]
     },
     "execution_count": 36,
     "metadata": {},
     "output_type": "execute_result"
    }
   ],
   "source": [
    "np.sqrt(mean_squared_error(yTestTarget,yPredTest.T))"
   ]
  }
 ],
 "metadata": {
  "kernelspec": {
   "display_name": "Python 3",
   "language": "python",
   "name": "python3"
  },
  "language_info": {
   "codemirror_mode": {
    "name": "ipython",
    "version": 3
   },
   "file_extension": ".py",
   "mimetype": "text/x-python",
   "name": "python",
   "nbconvert_exporter": "python",
   "pygments_lexer": "ipython3",
   "version": "3.7.1"
  }
 },
 "nbformat": 4,
 "nbformat_minor": 2
}
