{
 "cells": [
  {
   "cell_type": "markdown",
   "metadata": {},
   "source": [
    "# Elastic Net Regression in Vectorized/ Matrix Form from scratch in Python"
   ]
  },
  {
   "cell_type": "code",
   "execution_count": 1,
   "metadata": {},
   "outputs": [],
   "source": [
    "import pandas as pd\n",
    "import numpy as np\n",
    "import matplotlib.pyplot as pt\n",
    "from sklearn.metrics import mean_squared_error"
   ]
  },
  {
   "cell_type": "code",
   "execution_count": 2,
   "metadata": {},
   "outputs": [],
   "source": [
    "train=pd.read_csv('/home/atul/Downloads/train.csv')\n",
    "test=pd.read_csv('/home/atul/Downloads/test1.csv')"
   ]
  },
  {
   "cell_type": "code",
   "execution_count": 3,
   "metadata": {},
   "outputs": [
    {
     "data": {
      "text/html": [
       "<div>\n",
       "<style scoped>\n",
       "    .dataframe tbody tr th:only-of-type {\n",
       "        vertical-align: middle;\n",
       "    }\n",
       "\n",
       "    .dataframe tbody tr th {\n",
       "        vertical-align: top;\n",
       "    }\n",
       "\n",
       "    .dataframe thead th {\n",
       "        text-align: right;\n",
       "    }\n",
       "</style>\n",
       "<table border=\"1\" class=\"dataframe\">\n",
       "  <thead>\n",
       "    <tr style=\"text-align: right;\">\n",
       "      <th></th>\n",
       "      <th>AT</th>\n",
       "      <th>V</th>\n",
       "      <th>AP</th>\n",
       "      <th>RH</th>\n",
       "      <th>PE</th>\n",
       "    </tr>\n",
       "  </thead>\n",
       "  <tbody>\n",
       "    <tr>\n",
       "      <th>0</th>\n",
       "      <td>8.34</td>\n",
       "      <td>40.77</td>\n",
       "      <td>1010.84</td>\n",
       "      <td>90.01</td>\n",
       "      <td>480.48</td>\n",
       "    </tr>\n",
       "    <tr>\n",
       "      <th>1</th>\n",
       "      <td>23.64</td>\n",
       "      <td>58.49</td>\n",
       "      <td>1011.40</td>\n",
       "      <td>74.20</td>\n",
       "      <td>445.75</td>\n",
       "    </tr>\n",
       "    <tr>\n",
       "      <th>2</th>\n",
       "      <td>29.74</td>\n",
       "      <td>56.90</td>\n",
       "      <td>1007.15</td>\n",
       "      <td>41.91</td>\n",
       "      <td>438.76</td>\n",
       "    </tr>\n",
       "    <tr>\n",
       "      <th>3</th>\n",
       "      <td>19.07</td>\n",
       "      <td>49.69</td>\n",
       "      <td>1007.22</td>\n",
       "      <td>76.79</td>\n",
       "      <td>453.09</td>\n",
       "    </tr>\n",
       "    <tr>\n",
       "      <th>4</th>\n",
       "      <td>11.80</td>\n",
       "      <td>40.66</td>\n",
       "      <td>1017.13</td>\n",
       "      <td>97.20</td>\n",
       "      <td>464.43</td>\n",
       "    </tr>\n",
       "  </tbody>\n",
       "</table>\n",
       "</div>"
      ],
      "text/plain": [
       "      AT      V       AP     RH      PE\n",
       "0   8.34  40.77  1010.84  90.01  480.48\n",
       "1  23.64  58.49  1011.40  74.20  445.75\n",
       "2  29.74  56.90  1007.15  41.91  438.76\n",
       "3  19.07  49.69  1007.22  76.79  453.09\n",
       "4  11.80  40.66  1017.13  97.20  464.43"
      ]
     },
     "execution_count": 3,
     "metadata": {},
     "output_type": "execute_result"
    }
   ],
   "source": [
    "train.head() #1st 5 rows of train"
   ]
  },
  {
   "cell_type": "code",
   "execution_count": 4,
   "metadata": {},
   "outputs": [
    {
     "data": {
      "text/html": [
       "<div>\n",
       "<style scoped>\n",
       "    .dataframe tbody tr th:only-of-type {\n",
       "        vertical-align: middle;\n",
       "    }\n",
       "\n",
       "    .dataframe tbody tr th {\n",
       "        vertical-align: top;\n",
       "    }\n",
       "\n",
       "    .dataframe thead th {\n",
       "        text-align: right;\n",
       "    }\n",
       "</style>\n",
       "<table border=\"1\" class=\"dataframe\">\n",
       "  <thead>\n",
       "    <tr style=\"text-align: right;\">\n",
       "      <th></th>\n",
       "      <th>AT</th>\n",
       "      <th>V</th>\n",
       "      <th>AP</th>\n",
       "      <th>RH</th>\n",
       "      <th>PE</th>\n",
       "    </tr>\n",
       "  </thead>\n",
       "  <tbody>\n",
       "    <tr>\n",
       "      <th>0</th>\n",
       "      <td>8.67</td>\n",
       "      <td>40.77</td>\n",
       "      <td>1011.81</td>\n",
       "      <td>89.40</td>\n",
       "      <td>479.23</td>\n",
       "    </tr>\n",
       "    <tr>\n",
       "      <th>1</th>\n",
       "      <td>10.53</td>\n",
       "      <td>37.50</td>\n",
       "      <td>1008.55</td>\n",
       "      <td>99.91</td>\n",
       "      <td>472.32</td>\n",
       "    </tr>\n",
       "    <tr>\n",
       "      <th>2</th>\n",
       "      <td>7.99</td>\n",
       "      <td>41.38</td>\n",
       "      <td>1021.95</td>\n",
       "      <td>78.77</td>\n",
       "      <td>487.57</td>\n",
       "    </tr>\n",
       "    <tr>\n",
       "      <th>3</th>\n",
       "      <td>22.29</td>\n",
       "      <td>45.01</td>\n",
       "      <td>1012.40</td>\n",
       "      <td>51.58</td>\n",
       "      <td>449.08</td>\n",
       "    </tr>\n",
       "    <tr>\n",
       "      <th>4</th>\n",
       "      <td>9.06</td>\n",
       "      <td>36.30</td>\n",
       "      <td>1015.14</td>\n",
       "      <td>58.71</td>\n",
       "      <td>477.38</td>\n",
       "    </tr>\n",
       "  </tbody>\n",
       "</table>\n",
       "</div>"
      ],
      "text/plain": [
       "      AT      V       AP     RH      PE\n",
       "0   8.67  40.77  1011.81  89.40  479.23\n",
       "1  10.53  37.50  1008.55  99.91  472.32\n",
       "2   7.99  41.38  1021.95  78.77  487.57\n",
       "3  22.29  45.01  1012.40  51.58  449.08\n",
       "4   9.06  36.30  1015.14  58.71  477.38"
      ]
     },
     "execution_count": 4,
     "metadata": {},
     "output_type": "execute_result"
    }
   ],
   "source": [
    "test.head() #1st 5 rows of tests"
   ]
  },
  {
   "cell_type": "markdown",
   "metadata": {},
   "source": [
    "# Algorithms"
   ]
  },
  {
   "cell_type": "markdown",
   "metadata": {},
   "source": [
    "#### Variables:\n",
    "error_thres = Error Threshold  \n",
    "maxi = max. no. of iterations   \n",
    "s = step size or learning rate  \n",
    "theta = parameter array(to learn) ,here Initialized with all zeros; can be random values as well between 0 and 1  \n",
    "J = cost Function    \n",
    "Jval = list of error values  \n",
    "m = no. of training examples  \n",
    "lbda = regularization coefficient  \n",
    "Y = Dependent/Predicted Variable  \n",
    "alpha = mix-up proportion coefficient"
   ]
  },
  {
   "cell_type": "code",
   "execution_count": 5,
   "metadata": {},
   "outputs": [],
   "source": [
    "def elasticNetRegression(error_thres,maxi,s,lbda,alpha):\n",
    "    Jval=[]\n",
    "    theta=np.zeros(5)\n",
    "    for i in range(maxi):\n",
    "        Y=theta.dot(X)\n",
    "        J=((1/(2*m))*np.sum(np.square(Y-yTrainTarget))+lbda*(((1-alpha)/2)*np.sum(np.square(theta))+alpha*np.sum(theta)))\n",
    "        Jval.append(J)\n",
    "        if(J<error_thres and (len(Jval)>10 and np.mean(Jval[-10:])==Jval[-1])):\n",
    "            break\n",
    "        else:\n",
    "            theta=gradientDescent(X,yTrainTarget,theta.T,s,lbda,alpha).T\n",
    "    return(theta, Jval)"
   ]
  },
  {
   "cell_type": "code",
   "execution_count": 6,
   "metadata": {},
   "outputs": [],
   "source": [
    "def gradientDescent(A,B,theta,s,lbda,alpha):\n",
    "        theta=theta-((s/m)*(((theta.T.dot(A))-B).dot(A.T)).T+lbda*(1-alpha)*theta+lbda*alpha)\n",
    "        return(theta)"
   ]
  },
  {
   "cell_type": "markdown",
   "metadata": {},
   "source": [
    "# Training"
   ]
  },
  {
   "cell_type": "code",
   "execution_count": 7,
   "metadata": {},
   "outputs": [
    {
     "data": {
      "text/plain": [
       "299"
      ]
     },
     "execution_count": 7,
     "metadata": {},
     "output_type": "execute_result"
    }
   ],
   "source": [
    "m=len(train) #no. of training examples\n",
    "m"
   ]
  },
  {
   "cell_type": "markdown",
   "metadata": {},
   "source": [
    "## Converting Train Data Frames in matrix form"
   ]
  },
  {
   "cell_type": "code",
   "execution_count": 8,
   "metadata": {},
   "outputs": [
    {
     "data": {
      "text/plain": [
       "array([[8.34000e+00, 2.36400e+01, 2.97400e+01, ..., 3.05900e+01,\n",
       "        1.40400e+01, 1.54700e+01],\n",
       "       [4.07700e+01, 5.84900e+01, 5.69000e+01, ..., 7.00400e+01,\n",
       "        4.87900e+01, 4.49000e+01],\n",
       "       [1.01084e+03, 1.01140e+03, 1.00715e+03, ..., 1.01028e+03,\n",
       "        1.01762e+03, 1.02159e+03],\n",
       "       [9.00100e+01, 7.42000e+01, 4.19100e+01, ..., 5.05600e+01,\n",
       "        7.52500e+01, 8.17400e+01],\n",
       "       [1.00000e+00, 1.00000e+00, 1.00000e+00, ..., 1.00000e+00,\n",
       "        1.00000e+00, 1.00000e+00]])"
      ]
     },
     "execution_count": 8,
     "metadata": {},
     "output_type": "execute_result"
    }
   ],
   "source": [
    "trd=train.T \n",
    "m=len(train)\n",
    "X=np.array([trd.iloc[0].values,trd.iloc[1].values,trd.iloc[2].values,trd.iloc[3].values,np.ones(m)])\n",
    "X"
   ]
  },
  {
   "cell_type": "markdown",
   "metadata": {},
   "source": [
    "## True target values"
   ]
  },
  {
   "cell_type": "code",
   "execution_count": 9,
   "metadata": {},
   "outputs": [
    {
     "data": {
      "text/plain": [
       "array([480.48, 445.75, 438.76, 453.09, 464.43, 470.96, 442.35, 464.  ,\n",
       "       428.77, 484.31, 435.29, 451.41, 426.25, 480.66, 460.17, 453.13,\n",
       "       461.71, 471.08, 473.74, 448.56, 464.82, 427.28, 441.76, 474.71,\n",
       "       467.21, 487.69, 438.67, 485.66, 452.16, 429.87, 468.82, 442.85,\n",
       "       483.26, 433.59, 433.04, 458.6 , 435.14, 443.2 , 477.9 , 445.26,\n",
       "       435.57, 447.42, 462.28, 441.81, 454.16, 437.24, 464.11, 440.89,\n",
       "       485.2 , 445.34, 440.  , 431.35, 456.32, 432.98, 429.41, 464.95,\n",
       "       481.91, 437.15, 462.6 , 432.43, 442.22, 441.03, 468.91, 432.46,\n",
       "       430.07, 437.78, 483.12, 462.19, 457.71, 438.32, 434.35, 427.05,\n",
       "       448.69, 475.88, 479.28, 446.85, 434.99, 441.5 , 433.26, 430.46,\n",
       "       455.14, 431.26, 437.76, 464.63, 462.58, 483.27, 438.51, 431.03,\n",
       "       484.  , 431.64, 451.78, 439.46, 467.23, 459.81, 447.15, 442.  ,\n",
       "       449.61, 481.28, 437.54, 475.52, 458.68, 436.76, 446.08, 474.35,\n",
       "       481.96, 479.66, 435.28, 434.86, 435.72, 454.14, 455.76, 442.83,\n",
       "       449.47, 445.76, 473.57, 435.75, 437.96, 438.59, 444.21, 459.47,\n",
       "       465.54, 458.85, 435.68, 449.2 , 445.43, 453.96, 463.93, 465.82,\n",
       "       471.6 , 427.72, 468.54, 434.08, 454.57, 489.79, 481.78, 443.57,\n",
       "       457.9 , 472.16, 451.19, 470.33, 486.68, 472.68, 445.72, 466.58,\n",
       "       436.99, 470.87, 457.77, 448.15, 476.03, 442.87, 477.93, 459.06,\n",
       "       456.18, 473.62, 473.64, 463.64, 462.44, 454.39, 452.06, 453.31,\n",
       "       466.93, 436.37, 458.87, 470.67, 475.54, 432.72, 441.41, 472.9 ,\n",
       "       457.83, 462.05, 445.3 , 435.94, 472.71, 464.5 , 449.77, 435.04,\n",
       "       472.47, 459.31, 434.62, 435.34, 430.64, 447.16, 471.72, 470.41,\n",
       "       468.37, 483.59, 432.74, 438.11, 484.75, 445.01, 445.82, 452.47,\n",
       "       459.76, 445.3 , 486.9 , 454.89, 441.19, 440.5 , 435.04, 472.16,\n",
       "       442.16, 442.49, 456.55, 431.03, 471.42, 463.34, 433.97, 487.  ,\n",
       "       480.19, 479.56, 470.03, 429.57, 489.26, 435.62, 443.84, 463.76,\n",
       "       447.26, 430.3 , 475.01, 445.11, 450.35, 446.14, 439.04, 438.46,\n",
       "       468.57, 461.55, 468.02, 447.18, 444.69, 474.1 , 428.27, 425.18,\n",
       "       460.6 , 436.21, 476.25, 461.08, 460.3 , 435.04, 453.86, 484.78,\n",
       "       440.48, 452.17, 434.47, 436.8 , 459.76, 468.85, 468.81, 454.29,\n",
       "       442.8 , 445.52, 447.43, 437.31, 477.03, 456.57, 440.03, 466.24,\n",
       "       440.21, 475.17, 466.95, 457.81, 433.34, 485.19, 450.96, 446.05,\n",
       "       449.23, 469.31, 479.01, 432.46, 458.59, 440.13, 442.9 , 432.43,\n",
       "       455.07, 431.99, 439.22, 433.14, 483.95, 427.94, 435.61, 478.29,\n",
       "       453.08, 463.14, 480.96, 460.38, 437.19, 478.02, 456.07, 434.01,\n",
       "       476.99, 435.31, 432.85, 453.8 , 431.33, 431.69, 435.66, 488.05,\n",
       "       429.13, 464.09, 465.61])"
      ]
     },
     "execution_count": 9,
     "metadata": {},
     "output_type": "execute_result"
    }
   ],
   "source": [
    "yTrainTarget=trd.iloc[4].values\n",
    "yTrainTarget "
   ]
  },
  {
   "cell_type": "markdown",
   "metadata": {},
   "source": [
    "### Learnt parameter values"
   ]
  },
  {
   "cell_type": "code",
   "execution_count": 10,
   "metadata": {},
   "outputs": [
    {
     "data": {
      "text/plain": [
       "array([-0.05006285, -0.03934648,  0.4506902 , -0.00373775, -0.04828179])"
      ]
     },
     "execution_count": 10,
     "metadata": {},
     "output_type": "execute_result"
    }
   ],
   "source": [
    "theta, Jval= elasticNetRegression(0.001,1000,0.0000001,0.0001,0.5)\n",
    "theta"
   ]
  },
  {
   "cell_type": "code",
   "execution_count": 11,
   "metadata": {},
   "outputs": [
    {
     "data": {
      "text/plain": [
       "Text(0, 0.5, 'Error or Cost Function')"
      ]
     },
     "execution_count": 11,
     "metadata": {},
     "output_type": "execute_result"
    },
    {
     "data": {
      "image/png": "[encoded data removed]",
      "text/plain": [
       "<Figure size 432x288 with 1 Axes>"
      ]
     },
     "metadata": {
      "needs_background": "light"
     },
     "output_type": "display_data"
    }
   ],
   "source": [
    "pt.plot(range(len(Jval)),Jval)\n",
    "pt.title('Error vs no. of iterations curve for Training')\n",
    "pt.xlabel('No. of Iterations')\n",
    "pt.ylabel('Error or Cost Function')"
   ]
  },
  {
   "cell_type": "code",
   "execution_count": 12,
   "metadata": {},
   "outputs": [
    {
     "data": {
      "text/plain": [
       "array([453.16928851, 452.01758756, 449.98002365, 450.69905801,\n",
       "       455.8083661 , 455.31909966, 450.14443022, 457.88749697,\n",
       "       450.82439703, 456.51978962, 449.12934245, 453.83699324,\n",
       "       451.12544799, 452.5332966 , 455.63538061, 456.28247212,\n",
       "       453.62615624, 457.20117793, 456.81431003, 448.62799541,\n",
       "       454.36888974, 448.40868545, 451.43040131, 459.17242041,\n",
       "       456.70150264, 460.13992032, 451.90326707, 456.48437282,\n",
       "       452.27846911, 453.50684758, 445.36225994, 452.6412394 ,\n",
       "       457.68760731, 453.10883793, 449.84061272, 458.5076116 ,\n",
       "       449.01575701, 454.35211172, 456.4856922 , 454.9249758 ,\n",
       "       449.02102361, 450.48501814, 455.49881871, 453.3288032 ,\n",
       "       453.24673183, 450.9325192 , 450.03781001, 448.38173879,\n",
       "       455.77891773, 450.53553056, 451.75204942, 452.81226676,\n",
       "       455.84567949, 447.71067393, 450.48374407, 450.69072059,\n",
       "       452.01452139, 451.74454287, 453.68591394, 447.45269444,\n",
       "       451.13504899, 453.05607755, 455.17867831, 450.10383171,\n",
       "       453.22300076, 447.19507046, 459.75474948, 458.35900535,\n",
       "       454.42902221, 448.61865076, 452.45680104, 447.25591617,\n",
       "       451.42972082, 457.8179966 , 456.59635509, 452.08168515,\n",
       "       450.51131345, 450.25892895, 454.46215189, 450.07661406,\n",
       "       453.79254875, 447.91777959, 450.95861215, 453.2888182 ,\n",
       "       455.58002025, 450.45782792, 450.53910759, 449.91178282,\n",
       "       457.26273315, 450.10682067, 453.4555251 , 453.25875913,\n",
       "       453.45723277, 453.43355657, 452.11432663, 452.25028586,\n",
       "       449.64344718, 459.88900297, 449.75340923, 458.96584075,\n",
       "       456.09674484, 451.6266053 , 452.74685247, 453.87036833,\n",
       "       455.01829255, 456.4881295 , 449.44636103, 449.71989372,\n",
       "       450.47877392, 456.26822748, 453.83882524, 450.50552546,\n",
       "       456.22652361, 454.4562579 , 454.30070028, 448.83099876,\n",
       "       450.5701309 , 455.47519818, 453.15588904, 451.4377195 ,\n",
       "       452.86398432, 459.27149984, 448.6698906 , 450.56362009,\n",
       "       453.04312679, 454.12759442, 454.80308312, 451.68813923,\n",
       "       458.93489446, 448.22146956, 455.68802003, 450.33426728,\n",
       "       456.13273056, 457.8186284 , 453.40614971, 448.56460853,\n",
       "       452.28777735, 458.37145953, 452.92507194, 456.64166843,\n",
       "       453.18086936, 455.32689864, 451.22938419, 457.74927423,\n",
       "       450.32464246, 453.47399683, 460.2820907 , 449.71992685,\n",
       "       451.49187835, 450.46372872, 453.19483033, 455.26289257,\n",
       "       451.39244318, 459.42039611, 458.40023368, 453.00632204,\n",
       "       452.9001879 , 453.80918464, 450.87016924, 452.62367456,\n",
       "       457.30581853, 448.77375435, 458.51368366, 453.51443698,\n",
       "       453.29538293, 452.37996352, 450.20279876, 452.22707477,\n",
       "       449.75110998, 455.97308934, 451.12861739, 449.79958531,\n",
       "       453.40595271, 454.64386509, 455.27947852, 449.35578211,\n",
       "       450.64120548, 451.34880931, 445.85024732, 448.62627613,\n",
       "       446.53421173, 452.55151479, 457.01396567, 453.74587903,\n",
       "       453.55195858, 458.81261957, 451.50264897, 451.71588304,\n",
       "       452.12995662, 451.2055828 , 455.31713992, 447.88340473,\n",
       "       458.17357597, 451.37532821, 457.5791379 , 456.2555286 ,\n",
       "       453.94200822, 452.13996674, 450.65065689, 454.26899186,\n",
       "       451.07562376, 449.68944866, 448.53933457, 444.61318967,\n",
       "       454.06021598, 459.05387591, 450.82040696, 457.50943005,\n",
       "       460.81974549, 456.53074268, 453.09835995, 451.83589366,\n",
       "       454.12661544, 452.30775945, 453.54296714, 450.9010545 ,\n",
       "       453.02919927, 448.77671018, 454.23066526, 455.33772764,\n",
       "       456.53165094, 454.11180086, 450.29657243, 454.16563165,\n",
       "       453.96041767, 454.29140394, 455.96698672, 456.12754229,\n",
       "       450.09446247, 456.99097834, 449.89805138, 447.77075387,\n",
       "       451.53836558, 454.37458758, 453.07868147, 447.34892788,\n",
       "       455.80876185, 449.71205092, 451.62880066, 452.09365658,\n",
       "       450.77212739, 452.54452266, 452.62447406, 450.58216639,\n",
       "       453.72629731, 458.63078486, 460.07067925, 454.5684776 ,\n",
       "       449.96536807, 452.71348472, 452.9558262 , 454.17005417,\n",
       "       457.72369121, 451.69176032, 454.60953086, 453.69064804,\n",
       "       452.26045501, 457.5419038 , 451.40175789, 453.3885406 ,\n",
       "       449.79834104, 457.60888028, 453.64519487, 452.23891401,\n",
       "       450.89928848, 455.0130984 , 458.3836893 , 449.96812491,\n",
       "       450.56209049, 448.80779804, 455.40029884, 449.3621255 ,\n",
       "       456.54994865, 451.94106817, 448.30337205, 450.09101114,\n",
       "       458.2451227 , 450.49271527, 448.24091604, 454.08906152,\n",
       "       453.19176327, 452.84053067, 458.2161659 , 457.98825632,\n",
       "       449.42341702, 452.11776079, 457.5150526 , 454.22369079,\n",
       "       457.29435579, 449.98307221, 449.00700467, 456.36387109,\n",
       "       446.37073387, 448.84973988, 453.04831132, 455.78394843,\n",
       "       450.79878627, 455.67922025, 457.52567028])"
      ]
     },
     "execution_count": 12,
     "metadata": {},
     "output_type": "execute_result"
    }
   ],
   "source": [
    "yPredTrain = theta.dot(X)\n",
    "yPredTrain"
   ]
  },
  {
   "cell_type": "markdown",
   "metadata": {},
   "source": [
    "### Root Mean Squared Error for Train"
   ]
  },
  {
   "cell_type": "code",
   "execution_count": 13,
   "metadata": {},
   "outputs": [
    {
     "data": {
      "text/plain": [
       "15.29478892063971"
      ]
     },
     "execution_count": 13,
     "metadata": {},
     "output_type": "execute_result"
    }
   ],
   "source": [
    "np.sqrt(mean_squared_error(yTrainTarget,yPredTrain.T))"
   ]
  },
  {
   "cell_type": "markdown",
   "metadata": {},
   "source": [
    "# Testing"
   ]
  },
  {
   "cell_type": "markdown",
   "metadata": {},
   "source": [
    "## Preparing Test Data"
   ]
  },
  {
   "cell_type": "code",
   "execution_count": 14,
   "metadata": {},
   "outputs": [
    {
     "data": {
      "text/plain": [
       "(5, 200)"
      ]
     },
     "execution_count": 14,
     "metadata": {},
     "output_type": "execute_result"
    }
   ],
   "source": [
    "tsd=test.T \n",
    "m=len(test)\n",
    "Xtest=np.array([tsd.iloc[0].values,tsd.iloc[1].values,tsd.iloc[2].values,tsd.iloc[3].values,np.ones(m)])\n",
    "Xtest.shape"
   ]
  },
  {
   "cell_type": "code",
   "execution_count": 15,
   "metadata": {},
   "outputs": [
    {
     "data": {
      "text/plain": [
       "array([479.23, 472.32, 487.57, 449.08, 477.38, 474.16, 454.25, 429.85,\n",
       "       462.98, 434.04, 470.84, 488.65, 473.94, 437.42, 457.12, 457.49,\n",
       "       443.41, 445.27, 436.74, 487.33, 434.43, 437.14, 439.96, 442.58,\n",
       "       436.88, 441.94, 438.62, 470.55, 441.76, 450.88, 482.89, 454.41,\n",
       "       479.15, 458.67, 446.91, 466.52, 444.16, 489.09, 475.01, 471.43,\n",
       "       455.24, 445.49, 430.56, 471.78, 443.15, 475.  , 474.22, 445.71,\n",
       "       491.29, 437.87, 467.44, 437.14, 448.24, 447.2 , 478.12, 465.44,\n",
       "       445.65, 437.4 , 455.66, 445.83, 449.36, 436.26, 452.99, 431.72,\n",
       "       481.83, 433.08, 446.87, 463.03, 440.77, 430.91, 445.93, 430.34,\n",
       "       462.46, 460.08, 441.76, 449.66, 436.38, 452.07, 467.35, 473.87,\n",
       "       460.7 , 479.53, 467.46, 440.27, 454.32, 442.48, 435.76, 439.56,\n",
       "       467.  , 462.6 , 472.16, 448.46, 434.11, 449.74, 439.29, 473.2 ,\n",
       "       437.62, 491.49, 495.23, 442.75, 480.74, 461.38, 461.74, 489.54,\n",
       "       477.61, 461.49, 474.93, 447.89, 481.02, 470.68, 440.92, 453.38,\n",
       "       458.68, 433.82, 473.72, 482.37, 443.39, 449.93, 443.31, 443.63,\n",
       "       438.9 , 446.72, 449.68, 461.54, 451.97, 444.53, 479.61, 453.76,\n",
       "       430.28, 442.39, 474.57, 466.33, 433.72, 460.44, 445.04, 432.85,\n",
       "       439.37, 457.09, 488.8 , 433.63, 445.1 , 433.01, 453.45, 454.46,\n",
       "       473.09, 441.53, 479.15, 438.18, 443.3 , 447.45, 469.25, 476.67,\n",
       "       460.01, 432.3 , 454.01, 436.64, 450.23, 458.55, 481.08, 460.57,\n",
       "       478.24, 431.83, 469.33, 428.62, 434.12, 442.77, 467.42, 447.8 ,\n",
       "       436.19, 441.56, 463.33, 470.53, 447.28, 450.7 , 432.78, 451.09,\n",
       "       438.23, 457.07, 438.44, 473.43, 437.39, 450.86, 435.12, 477.05,\n",
       "       432.6 , 432.43, 486.46, 468.14, 429.08, 443.7 , 477.65, 433.84,\n",
       "       442.65, 478.44, 447.18, 446.26, 472.67, 461.6 , 443.71, 430.16])"
      ]
     },
     "execution_count": 15,
     "metadata": {},
     "output_type": "execute_result"
    }
   ],
   "source": [
    "yTestTarget=tsd.iloc[4].values\n",
    "yTestTarget "
   ]
  },
  {
   "cell_type": "markdown",
   "metadata": {},
   "source": [
    "## Applying Learned theta values from Trained model on test data to predict values"
   ]
  },
  {
   "cell_type": "code",
   "execution_count": 16,
   "metadata": {},
   "outputs": [
    {
     "data": {
      "text/plain": [
       "array([453.5922173 , 452.11922955, 458.21198964, 453.15080108,\n",
       "       455.36408149, 454.09022914, 453.05013294, 448.2557955 ,\n",
       "       455.8587109 , 449.93972609, 456.6008689 , 460.89520196,\n",
       "       457.9891873 , 452.15961977, 455.17269488, 459.48892488,\n",
       "       449.81172303, 454.26353566, 451.35818661, 457.60045348,\n",
       "       448.73284596, 452.31936495, 452.74565861, 450.59734528,\n",
       "       448.92480775, 451.38865555, 450.61208347, 452.7389378 ,\n",
       "       448.84183379, 453.88469006, 454.21810078, 456.97890709,\n",
       "       456.67890554, 454.24888612, 454.04334492, 457.62118311,\n",
       "       450.31886096, 453.75727627, 457.22547104, 457.99796878,\n",
       "       456.17156386, 450.86708989, 446.46584312, 459.53248469,\n",
       "       451.27248227, 457.18954872, 456.31169696, 450.0975681 ,\n",
       "       454.24037053, 452.34072442, 453.7462161 , 449.74701921,\n",
       "       450.28800347, 449.979453  , 461.55502396, 456.17287863,\n",
       "       451.29566164, 450.3364292 , 453.13990605, 452.4267993 ,\n",
       "       455.89542008, 452.27539277, 453.93284251, 449.73487432,\n",
       "       456.35187882, 448.79428034, 451.36144598, 454.63489802,\n",
       "       453.10974347, 449.54444086, 455.05996874, 446.09408003,\n",
       "       457.47469574, 457.40942957, 452.03892638, 455.92487963,\n",
       "       446.66406604, 451.60650258, 454.15420011, 457.45814051,\n",
       "       457.47389575, 457.19169453, 456.34121279, 452.83954201,\n",
       "       456.27260709, 450.72164515, 446.62265883, 451.03168302,\n",
       "       453.77785651, 456.03631558, 447.32175419, 452.13541092,\n",
       "       451.3474491 , 451.3411033 , 450.57250132, 458.3232656 ,\n",
       "       451.52888451, 453.02951226, 457.32887784, 449.7528634 ,\n",
       "       457.16652775, 455.07203814, 450.86120978, 459.67660658,\n",
       "       459.37974228, 454.93957146, 450.10268786, 452.32900006,\n",
       "       455.30305152, 454.41355608, 454.55777864, 448.63652707,\n",
       "       450.71608651, 449.74113139, 463.11711393, 455.94890262,\n",
       "       452.85905883, 454.37958469, 454.53699673, 451.1548761 ,\n",
       "       452.62011218, 451.16442969, 454.6025619 , 457.30818641,\n",
       "       454.75253437, 451.0779411 , 451.82616538, 454.5353245 ,\n",
       "       449.35468029, 451.58591813, 452.70698289, 453.39055211,\n",
       "       450.34447861, 457.80678812, 450.07857908, 448.78682106,\n",
       "       446.34691971, 456.22461405, 453.91607395, 447.65436905,\n",
       "       449.87833442, 449.34707651, 453.0716663 , 448.32070417,\n",
       "       457.67300391, 449.4408971 , 455.40440344, 447.826857  ,\n",
       "       452.88166028, 454.19661579, 456.08935449, 458.46812015,\n",
       "       457.20189471, 449.08562895, 453.22350244, 449.85813422,\n",
       "       453.84585927, 456.07516316, 458.72719911, 457.97220362,\n",
       "       453.62048218, 449.53325758, 457.62030215, 451.44989428,\n",
       "       450.75773316, 451.5575093 , 455.19708439, 448.52513085,\n",
       "       449.61649418, 449.9869378 , 453.61461325, 453.88855142,\n",
       "       450.83210918, 452.79017934, 448.91948596, 451.96504346,\n",
       "       449.81757865, 448.19243505, 449.36642202, 456.41169572,\n",
       "       452.26386563, 452.41037911, 453.13984628, 458.88064601,\n",
       "       449.37374723, 449.25301271, 454.78519928, 453.09706426,\n",
       "       450.80036604, 450.75094357, 453.00013964, 448.86525678,\n",
       "       452.73073687, 452.22019737, 451.53172602, 453.11671991,\n",
       "       455.18377072, 454.89617415, 449.73899774, 448.43161758])"
      ]
     },
     "execution_count": 16,
     "metadata": {},
     "output_type": "execute_result"
    }
   ],
   "source": [
    "yPredTest = theta.dot(Xtest)\n",
    "yPredTest"
   ]
  },
  {
   "cell_type": "markdown",
   "metadata": {},
   "source": [
    "### Root Mean Squared Error for Test"
   ]
  },
  {
   "cell_type": "code",
   "execution_count": 17,
   "metadata": {},
   "outputs": [
    {
     "data": {
      "text/plain": [
       "14.993549521792213"
      ]
     },
     "execution_count": 17,
     "metadata": {},
     "output_type": "execute_result"
    }
   ],
   "source": [
    "np.sqrt(mean_squared_error(yTestTarget,yPredTest.T))"
   ]
  }
 ],
 "metadata": {
  "kernelspec": {
   "display_name": "Python 3",
   "language": "python",
   "name": "python3"
  },
  "language_info": {
   "codemirror_mode": {
    "name": "ipython",
    "version": 3
   },
   "file_extension": ".py",
   "mimetype": "text/x-python",
   "name": "python",
   "nbconvert_exporter": "python",
   "pygments_lexer": "ipython3",
   "version": "3.7.1"
  }
 },
 "nbformat": 4,
 "nbformat_minor": 2
}
