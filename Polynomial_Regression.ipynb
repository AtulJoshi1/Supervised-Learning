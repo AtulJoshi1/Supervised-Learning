{
 "cells": [
  {
   "cell_type": "code",
   "execution_count": 1,
   "metadata": {},
   "outputs": [],
   "source": [
    "import pandas as pd\n",
    "import numpy as np\n",
    "from sklearn.preprocessing import PolynomialFeatures\n",
    "from sklearn.metrics import mean_squared_error\n",
    "import matplotlib.pyplot as pt"
   ]
  },
  {
   "cell_type": "code",
   "execution_count": 2,
   "metadata": {},
   "outputs": [],
   "source": [
    "train=pd.read_csv('/home/atul/Downloads/train.csv')\n",
    "test=pd.read_csv('/home/atul/Downloads/test1.csv')"
   ]
  },
  {
   "cell_type": "code",
   "execution_count": 3,
   "metadata": {},
   "outputs": [
    {
     "data": {
      "text/html": [
       "<div>\n",
       "<style scoped>\n",
       "    .dataframe tbody tr th:only-of-type {\n",
       "        vertical-align: middle;\n",
       "    }\n",
       "\n",
       "    .dataframe tbody tr th {\n",
       "        vertical-align: top;\n",
       "    }\n",
       "\n",
       "    .dataframe thead th {\n",
       "        text-align: right;\n",
       "    }\n",
       "</style>\n",
       "<table border=\"1\" class=\"dataframe\">\n",
       "  <thead>\n",
       "    <tr style=\"text-align: right;\">\n",
       "      <th></th>\n",
       "      <th>AT</th>\n",
       "      <th>V</th>\n",
       "      <th>AP</th>\n",
       "      <th>RH</th>\n",
       "      <th>PE</th>\n",
       "    </tr>\n",
       "  </thead>\n",
       "  <tbody>\n",
       "    <tr>\n",
       "      <th>0</th>\n",
       "      <td>8.34</td>\n",
       "      <td>40.77</td>\n",
       "      <td>1010.84</td>\n",
       "      <td>90.01</td>\n",
       "      <td>480.48</td>\n",
       "    </tr>\n",
       "    <tr>\n",
       "      <th>1</th>\n",
       "      <td>23.64</td>\n",
       "      <td>58.49</td>\n",
       "      <td>1011.40</td>\n",
       "      <td>74.20</td>\n",
       "      <td>445.75</td>\n",
       "    </tr>\n",
       "    <tr>\n",
       "      <th>2</th>\n",
       "      <td>29.74</td>\n",
       "      <td>56.90</td>\n",
       "      <td>1007.15</td>\n",
       "      <td>41.91</td>\n",
       "      <td>438.76</td>\n",
       "    </tr>\n",
       "    <tr>\n",
       "      <th>3</th>\n",
       "      <td>19.07</td>\n",
       "      <td>49.69</td>\n",
       "      <td>1007.22</td>\n",
       "      <td>76.79</td>\n",
       "      <td>453.09</td>\n",
       "    </tr>\n",
       "    <tr>\n",
       "      <th>4</th>\n",
       "      <td>11.80</td>\n",
       "      <td>40.66</td>\n",
       "      <td>1017.13</td>\n",
       "      <td>97.20</td>\n",
       "      <td>464.43</td>\n",
       "    </tr>\n",
       "  </tbody>\n",
       "</table>\n",
       "</div>"
      ],
      "text/plain": [
       "      AT      V       AP     RH      PE\n",
       "0   8.34  40.77  1010.84  90.01  480.48\n",
       "1  23.64  58.49  1011.40  74.20  445.75\n",
       "2  29.74  56.90  1007.15  41.91  438.76\n",
       "3  19.07  49.69  1007.22  76.79  453.09\n",
       "4  11.80  40.66  1017.13  97.20  464.43"
      ]
     },
     "execution_count": 3,
     "metadata": {},
     "output_type": "execute_result"
    }
   ],
   "source": [
    "train.head() #1st 5 rows of train"
   ]
  },
  {
   "cell_type": "code",
   "execution_count": 4,
   "metadata": {},
   "outputs": [
    {
     "data": {
      "text/html": [
       "<div>\n",
       "<style scoped>\n",
       "    .dataframe tbody tr th:only-of-type {\n",
       "        vertical-align: middle;\n",
       "    }\n",
       "\n",
       "    .dataframe tbody tr th {\n",
       "        vertical-align: top;\n",
       "    }\n",
       "\n",
       "    .dataframe thead th {\n",
       "        text-align: right;\n",
       "    }\n",
       "</style>\n",
       "<table border=\"1\" class=\"dataframe\">\n",
       "  <thead>\n",
       "    <tr style=\"text-align: right;\">\n",
       "      <th></th>\n",
       "      <th>AT</th>\n",
       "      <th>V</th>\n",
       "      <th>AP</th>\n",
       "      <th>RH</th>\n",
       "      <th>PE</th>\n",
       "    </tr>\n",
       "  </thead>\n",
       "  <tbody>\n",
       "    <tr>\n",
       "      <th>0</th>\n",
       "      <td>8.67</td>\n",
       "      <td>40.77</td>\n",
       "      <td>1011.81</td>\n",
       "      <td>89.40</td>\n",
       "      <td>479.23</td>\n",
       "    </tr>\n",
       "    <tr>\n",
       "      <th>1</th>\n",
       "      <td>10.53</td>\n",
       "      <td>37.50</td>\n",
       "      <td>1008.55</td>\n",
       "      <td>99.91</td>\n",
       "      <td>472.32</td>\n",
       "    </tr>\n",
       "    <tr>\n",
       "      <th>2</th>\n",
       "      <td>7.99</td>\n",
       "      <td>41.38</td>\n",
       "      <td>1021.95</td>\n",
       "      <td>78.77</td>\n",
       "      <td>487.57</td>\n",
       "    </tr>\n",
       "    <tr>\n",
       "      <th>3</th>\n",
       "      <td>22.29</td>\n",
       "      <td>45.01</td>\n",
       "      <td>1012.40</td>\n",
       "      <td>51.58</td>\n",
       "      <td>449.08</td>\n",
       "    </tr>\n",
       "    <tr>\n",
       "      <th>4</th>\n",
       "      <td>9.06</td>\n",
       "      <td>36.30</td>\n",
       "      <td>1015.14</td>\n",
       "      <td>58.71</td>\n",
       "      <td>477.38</td>\n",
       "    </tr>\n",
       "  </tbody>\n",
       "</table>\n",
       "</div>"
      ],
      "text/plain": [
       "      AT      V       AP     RH      PE\n",
       "0   8.67  40.77  1011.81  89.40  479.23\n",
       "1  10.53  37.50  1008.55  99.91  472.32\n",
       "2   7.99  41.38  1021.95  78.77  487.57\n",
       "3  22.29  45.01  1012.40  51.58  449.08\n",
       "4   9.06  36.30  1015.14  58.71  477.38"
      ]
     },
     "execution_count": 4,
     "metadata": {},
     "output_type": "execute_result"
    }
   ],
   "source": [
    "test.head() #1st 5 rows of test"
   ]
  },
  {
   "cell_type": "markdown",
   "metadata": {},
   "source": [
    "# Algorithms"
   ]
  },
  {
   "cell_type": "markdown",
   "metadata": {},
   "source": [
    "error_thres = Error Threshold  \n",
    "maxi = max. no. of iterations   \n",
    "s = step size or learning rate  \n",
    "theta = parameter array(to learn) ,here Initialized with all zeros; can be random values as well between 0 and 1  \n",
    "J = cost Function    \n",
    "Jval = list of error values  \n",
    "m = no. of training examples  \n",
    "Y = Dependent/Predicted Variable  "
   ]
  },
  {
   "cell_type": "code",
   "execution_count": 5,
   "metadata": {},
   "outputs": [],
   "source": [
    "def gradientDescent(A,B,theta,Y,s):\n",
    "        t=s/len(A)\n",
    "        #theta=theta-(t*(((theta.T.dot(A))-B).dot(A.T)).T)\n",
    "        theta=theta-(t*((Y-B.T).dot(A.T)))\n",
    "        #thetaval.append(theta)\n",
    "        return(theta)"
   ]
  },
  {
   "cell_type": "code",
   "execution_count": 6,
   "metadata": {},
   "outputs": [],
   "source": [
    "def polyRegression(poly_x,error_thres,maxi,s):\n",
    "    Jval=[]\n",
    "    theta=np.matrix([np.zeros(15)]) \n",
    "    for i in range(maxi):\n",
    "        Y=theta.dot(poly_x)\n",
    "        J=(((1/(2*len(Y)))*np.sum(np.square(Y-yTrainTrue))))\n",
    "        Jval.append(J)\n",
    "        if(J<error_thres or (len(Jval)>10 and np.mean(Jval[-10:])==Jval[-1])):\n",
    "            break\n",
    "        else:\n",
    "            theta=gradientDescent(poly_x,yTrainTrue,theta,Y,s)\n",
    "    return(theta,Jval)"
   ]
  },
  {
   "cell_type": "code",
   "execution_count": 7,
   "metadata": {},
   "outputs": [],
   "source": [
    "def polyTransform(degree,X):\n",
    "    poly=PolynomialFeatures(degree) \n",
    "    poly_x=poly.fit_transform(X)\n",
    "    return poly_x"
   ]
  },
  {
   "cell_type": "markdown",
   "metadata": {},
   "source": [
    "# Training"
   ]
  },
  {
   "cell_type": "markdown",
   "metadata": {},
   "source": [
    "### Preparing Train Data"
   ]
  },
  {
   "cell_type": "code",
   "execution_count": 8,
   "metadata": {},
   "outputs": [
    {
     "data": {
      "text/plain": [
       "(299, 4)"
      ]
     },
     "execution_count": 8,
     "metadata": {},
     "output_type": "execute_result"
    }
   ],
   "source": [
    "Xtrain=train.iloc[:,0:4]\n",
    "Xtrain.shape"
   ]
  },
  {
   "cell_type": "code",
   "execution_count": 9,
   "metadata": {},
   "outputs": [
    {
     "data": {
      "text/plain": [
       "(299, 1)"
      ]
     },
     "execution_count": 9,
     "metadata": {},
     "output_type": "execute_result"
    }
   ],
   "source": [
    "yTrainTrue = train.iloc[:,-1:] #true y in train\n",
    "yTrainTrue.shape"
   ]
  },
  {
   "cell_type": "markdown",
   "metadata": {},
   "source": [
    "#### Converting to Polynomial features"
   ]
  },
  {
   "cell_type": "code",
   "execution_count": 10,
   "metadata": {},
   "outputs": [
    {
     "data": {
      "text/plain": [
       "(299, 15)"
      ]
     },
     "execution_count": 10,
     "metadata": {},
     "output_type": "execute_result"
    }
   ],
   "source": [
    "poly_xtrain= polyTransform(2,Xtrain) #degree=2\n",
    "poly_xtrain.shape"
   ]
  },
  {
   "cell_type": "code",
   "execution_count": 11,
   "metadata": {},
   "outputs": [
    {
     "data": {
      "text/plain": [
       "matrix([[ 4.22012390e-10, -1.22542751e-08, -1.01054229e-08,\n",
       "          4.30717832e-07,  4.85388111e-08, -5.92987880e-07,\n",
       "         -1.26596150e-06, -1.23547754e-05, -5.49326964e-07,\n",
       "         -2.30283915e-06, -1.00519239e-05,  2.20489471e-07,\n",
       "          4.39610427e-04,  4.94056913e-05,  4.80769810e-06]])"
      ]
     },
     "execution_count": 11,
     "metadata": {},
     "output_type": "execute_result"
    }
   ],
   "source": [
    "theta,Jval = polyRegression(poly_xtrain.T,0.001,1000,0.000000000000001) \n",
    "theta #learnt Parameter values"
   ]
  },
  {
   "cell_type": "code",
   "execution_count": 12,
   "metadata": {},
   "outputs": [
    {
     "data": {
      "text/plain": [
       "Text(0, 0.5, 'Error or Cost Function')"
      ]
     },
     "execution_count": 12,
     "metadata": {},
     "output_type": "execute_result"
    },
    {
     "data": {
      "image/png": "[encoded data removed]",
      "text/plain": [
       "<Figure size 432x288 with 1 Axes>"
      ]
     },
     "metadata": {
      "needs_background": "light"
     },
     "output_type": "display_data"
    }
   ],
   "source": [
    "pt.plot(range(len(Jval)),Jval)\n",
    "pt.title('Error vs no. of iterations curve for Training')\n",
    "pt.xlabel('No. of Iterations')\n",
    "pt.ylabel('Error or Cost Function')"
   ]
  },
  {
   "cell_type": "markdown",
   "metadata": {},
   "source": [
    "### Predicted Values on Train"
   ]
  },
  {
   "cell_type": "code",
   "execution_count": 13,
   "metadata": {},
   "outputs": [
    {
     "data": {
      "text/plain": [
       "matrix([[453.20512172, 452.52527496, 447.05722301, 449.08390132,\n",
       "         459.16258608, 457.53724682, 449.62061625, 462.52063193,\n",
       "         449.40340853, 459.03248731, 447.65931115, 453.85444936,\n",
       "         451.27515434, 451.14551958, 457.28381475, 460.49909956,\n",
       "         452.65510834, 461.5314989 , 459.31288219, 442.59481139,\n",
       "         456.17820896, 445.28553518, 451.98825051, 465.05163827,\n",
       "         459.82490987, 465.83507046, 452.72359607, 459.90574874,\n",
       "         452.32517345, 454.925276  , 438.66762136, 453.95002867,\n",
       "         461.37636249, 454.25507088, 448.26021371, 463.45335952,\n",
       "         448.42743639, 457.84011046, 459.03129686, 457.6541807 ,\n",
       "         447.15836849, 450.47320836, 455.68236949, 454.28951802,\n",
       "         455.55698837, 450.53590978, 447.37726115, 444.31395824,\n",
       "         457.58080846, 450.02856128, 453.43315933, 452.90940269,\n",
       "         458.04755256, 445.85592759, 449.8322355 , 448.88599692,\n",
       "         450.89998143, 452.65469481, 455.25859111, 445.08848913,\n",
       "         451.21924894, 453.65672094, 456.91010329, 449.4183669 ,\n",
       "         454.39696375, 444.27620661, 466.23168354, 462.90093095,\n",
       "         457.19225117, 446.13907546, 453.31705379, 443.65672548,\n",
       "         452.85912656, 461.99332345, 459.90380988, 450.30028408,\n",
       "         450.11829405, 449.94045992, 457.53862622, 450.48825107,\n",
       "         456.39405341, 445.8154718 , 449.12864051, 453.81861643,\n",
       "         457.18633751, 447.05383762, 451.40617273, 449.87330155,\n",
       "         460.40802966, 449.34352978, 454.88331515, 454.81602369,\n",
       "         451.70668058, 452.54002829, 452.5573013 , 452.89036732,\n",
       "         448.44426805, 466.73641469, 447.92201678, 464.57346979,\n",
       "         460.26527006, 451.33074032, 454.37758264, 453.98533554,\n",
       "         456.82313463, 459.73855317, 448.91384363, 450.04047919,\n",
       "         450.14365692, 460.71220618, 454.47863339, 451.17743105,\n",
       "         460.95292645, 457.23896182, 454.42233205, 444.84414641,\n",
       "         451.14126403, 459.31326959, 455.24103684, 450.17238793,\n",
       "         453.21424593, 464.85717397, 447.88378175, 448.10687841,\n",
       "         455.40404126, 453.39747221, 456.43129951, 451.15256098,\n",
       "         465.01424569, 445.8657738 , 456.91466269, 450.42912521,\n",
       "         460.18396063, 462.35349641, 453.32333378, 446.49596494,\n",
       "         451.93489864, 464.11525266, 454.93385855, 458.97119721,\n",
       "         452.57437771, 457.45124012, 450.08382478, 462.63719229,\n",
       "         449.12599641, 453.45621524, 466.70476611, 447.39179684,\n",
       "         450.55502819, 449.74879864, 452.09930959, 456.07057391,\n",
       "         449.44305611, 466.04350666, 464.52725353, 453.86129451,\n",
       "         452.46553419, 454.84841182, 449.42470038, 453.72812876,\n",
       "         461.41013088, 444.85504136, 463.53779789, 452.63424191,\n",
       "         452.53738255, 454.53544104, 448.94315789, 451.90471351,\n",
       "         447.48651548, 458.42793249, 449.63485899, 446.4860058 ,\n",
       "         454.04846832, 455.45617317, 459.64272544, 447.98872525,\n",
       "         449.03155964, 449.0733251 , 441.20016061, 445.38795481,\n",
       "         443.19790608, 453.45941302, 458.78980626, 454.30202914,\n",
       "         455.0125588 , 464.36087796, 453.53426646, 453.62632807,\n",
       "         450.73088759, 451.35313522, 459.35290359, 444.54300743,\n",
       "         462.70397059, 451.51725417, 460.83024029, 460.46021706,\n",
       "         457.20391982, 453.28459801, 449.99968536, 454.57493908,\n",
       "         450.01179038, 447.24447678, 443.27649851, 439.22127739,\n",
       "         454.53359706, 465.20544104, 451.94669553, 460.65517332,\n",
       "         468.13156357, 459.58430884, 452.14772615, 451.7107378 ,\n",
       "         453.90502958, 452.46712912, 454.49927509, 449.16680531,\n",
       "         454.55484703, 447.31850428, 455.54230114, 457.76429808,\n",
       "         461.32832196, 455.96872417, 450.41256814, 456.61326087,\n",
       "         454.89341682, 455.95037198, 458.20583354, 460.85675306,\n",
       "         446.85192056, 460.04121597, 449.23217274, 443.84900886,\n",
       "         448.20021469, 456.5097431 , 453.22280893, 441.31408637,\n",
       "         457.50844055, 449.1252373 , 450.52171529, 450.78642315,\n",
       "         451.02508886, 453.37685059, 453.43072202, 451.30933629,\n",
       "         453.55509495, 464.65599292, 466.17897534, 458.01377845,\n",
       "         448.98719584, 454.11448088, 454.6036683 , 457.08768094,\n",
       "         461.14180301, 449.75289808, 456.76929747, 454.84553059,\n",
       "         453.48236376, 462.0405149 , 449.01793255, 453.85702538,\n",
       "         449.68823347, 461.05977918, 454.74387903, 452.70264748,\n",
       "         450.43129253, 456.4491243 , 463.44468448, 447.99779738,\n",
       "         447.48323988, 445.31887169, 459.99454722, 448.42247606,\n",
       "         460.9496247 , 452.18751608, 445.6441367 , 450.58230339,\n",
       "         461.40071955, 450.22230184, 443.40351888, 453.92737535,\n",
       "         453.74475817, 452.46734257, 463.12948991, 462.38529262,\n",
       "         449.23677402, 451.56975845, 462.30918877, 456.82432618,\n",
       "         460.50178316, 449.47237066, 448.39895201, 460.84301501,\n",
       "         441.21590754, 447.37686531, 455.99873441, 457.39169121,\n",
       "         450.1239068 , 458.36790326, 462.2940164 ]])"
      ]
     },
     "execution_count": 13,
     "metadata": {},
     "output_type": "execute_result"
    }
   ],
   "source": [
    "yPredTrain = theta.dot(poly_xtrain.T)\n",
    "yPredTrain"
   ]
  },
  {
   "cell_type": "markdown",
   "metadata": {},
   "source": [
    "#### Root Mean Squared Error for Train"
   ]
  },
  {
   "cell_type": "code",
   "execution_count": 14,
   "metadata": {},
   "outputs": [
    {
     "data": {
      "text/plain": [
       "14.828363012811334"
      ]
     },
     "execution_count": 14,
     "metadata": {},
     "output_type": "execute_result"
    }
   ],
   "source": [
    "np.sqrt(mean_squared_error(yTrainTrue,yPredTrain.T))"
   ]
  },
  {
   "cell_type": "markdown",
   "metadata": {},
   "source": [
    "# Testing"
   ]
  },
  {
   "cell_type": "markdown",
   "metadata": {},
   "source": [
    "## Preparing Test Data"
   ]
  },
  {
   "cell_type": "code",
   "execution_count": 15,
   "metadata": {},
   "outputs": [
    {
     "data": {
      "text/plain": [
       "(200, 4)"
      ]
     },
     "execution_count": 15,
     "metadata": {},
     "output_type": "execute_result"
    }
   ],
   "source": [
    "Xtest=test.iloc[:,0:4]\n",
    "Xtest.shape"
   ]
  },
  {
   "cell_type": "markdown",
   "metadata": {},
   "source": [
    "#### True Target Values of test"
   ]
  },
  {
   "cell_type": "code",
   "execution_count": 16,
   "metadata": {},
   "outputs": [
    {
     "data": {
      "text/html": [
       "<div>\n",
       "<style scoped>\n",
       "    .dataframe tbody tr th:only-of-type {\n",
       "        vertical-align: middle;\n",
       "    }\n",
       "\n",
       "    .dataframe tbody tr th {\n",
       "        vertical-align: top;\n",
       "    }\n",
       "\n",
       "    .dataframe thead th {\n",
       "        text-align: right;\n",
       "    }\n",
       "</style>\n",
       "<table border=\"1\" class=\"dataframe\">\n",
       "  <thead>\n",
       "    <tr style=\"text-align: right;\">\n",
       "      <th></th>\n",
       "      <th>PE</th>\n",
       "    </tr>\n",
       "  </thead>\n",
       "  <tbody>\n",
       "    <tr>\n",
       "      <th>0</th>\n",
       "      <td>479.23</td>\n",
       "    </tr>\n",
       "    <tr>\n",
       "      <th>1</th>\n",
       "      <td>472.32</td>\n",
       "    </tr>\n",
       "    <tr>\n",
       "      <th>2</th>\n",
       "      <td>487.57</td>\n",
       "    </tr>\n",
       "    <tr>\n",
       "      <th>3</th>\n",
       "      <td>449.08</td>\n",
       "    </tr>\n",
       "    <tr>\n",
       "      <th>4</th>\n",
       "      <td>477.38</td>\n",
       "    </tr>\n",
       "    <tr>\n",
       "      <th>5</th>\n",
       "      <td>474.16</td>\n",
       "    </tr>\n",
       "    <tr>\n",
       "      <th>6</th>\n",
       "      <td>454.25</td>\n",
       "    </tr>\n",
       "    <tr>\n",
       "      <th>7</th>\n",
       "      <td>429.85</td>\n",
       "    </tr>\n",
       "    <tr>\n",
       "      <th>8</th>\n",
       "      <td>462.98</td>\n",
       "    </tr>\n",
       "    <tr>\n",
       "      <th>9</th>\n",
       "      <td>434.04</td>\n",
       "    </tr>\n",
       "    <tr>\n",
       "      <th>10</th>\n",
       "      <td>470.84</td>\n",
       "    </tr>\n",
       "    <tr>\n",
       "      <th>11</th>\n",
       "      <td>488.65</td>\n",
       "    </tr>\n",
       "    <tr>\n",
       "      <th>12</th>\n",
       "      <td>473.94</td>\n",
       "    </tr>\n",
       "    <tr>\n",
       "      <th>13</th>\n",
       "      <td>437.42</td>\n",
       "    </tr>\n",
       "    <tr>\n",
       "      <th>14</th>\n",
       "      <td>457.12</td>\n",
       "    </tr>\n",
       "    <tr>\n",
       "      <th>15</th>\n",
       "      <td>457.49</td>\n",
       "    </tr>\n",
       "    <tr>\n",
       "      <th>16</th>\n",
       "      <td>443.41</td>\n",
       "    </tr>\n",
       "    <tr>\n",
       "      <th>17</th>\n",
       "      <td>445.27</td>\n",
       "    </tr>\n",
       "    <tr>\n",
       "      <th>18</th>\n",
       "      <td>436.74</td>\n",
       "    </tr>\n",
       "    <tr>\n",
       "      <th>19</th>\n",
       "      <td>487.33</td>\n",
       "    </tr>\n",
       "    <tr>\n",
       "      <th>20</th>\n",
       "      <td>434.43</td>\n",
       "    </tr>\n",
       "    <tr>\n",
       "      <th>21</th>\n",
       "      <td>437.14</td>\n",
       "    </tr>\n",
       "    <tr>\n",
       "      <th>22</th>\n",
       "      <td>439.96</td>\n",
       "    </tr>\n",
       "    <tr>\n",
       "      <th>23</th>\n",
       "      <td>442.58</td>\n",
       "    </tr>\n",
       "    <tr>\n",
       "      <th>24</th>\n",
       "      <td>436.88</td>\n",
       "    </tr>\n",
       "    <tr>\n",
       "      <th>25</th>\n",
       "      <td>441.94</td>\n",
       "    </tr>\n",
       "    <tr>\n",
       "      <th>26</th>\n",
       "      <td>438.62</td>\n",
       "    </tr>\n",
       "    <tr>\n",
       "      <th>27</th>\n",
       "      <td>470.55</td>\n",
       "    </tr>\n",
       "    <tr>\n",
       "      <th>28</th>\n",
       "      <td>441.76</td>\n",
       "    </tr>\n",
       "    <tr>\n",
       "      <th>29</th>\n",
       "      <td>450.88</td>\n",
       "    </tr>\n",
       "    <tr>\n",
       "      <th>...</th>\n",
       "      <td>...</td>\n",
       "    </tr>\n",
       "    <tr>\n",
       "      <th>170</th>\n",
       "      <td>463.33</td>\n",
       "    </tr>\n",
       "    <tr>\n",
       "      <th>171</th>\n",
       "      <td>470.53</td>\n",
       "    </tr>\n",
       "    <tr>\n",
       "      <th>172</th>\n",
       "      <td>447.28</td>\n",
       "    </tr>\n",
       "    <tr>\n",
       "      <th>173</th>\n",
       "      <td>450.70</td>\n",
       "    </tr>\n",
       "    <tr>\n",
       "      <th>174</th>\n",
       "      <td>432.78</td>\n",
       "    </tr>\n",
       "    <tr>\n",
       "      <th>175</th>\n",
       "      <td>451.09</td>\n",
       "    </tr>\n",
       "    <tr>\n",
       "      <th>176</th>\n",
       "      <td>438.23</td>\n",
       "    </tr>\n",
       "    <tr>\n",
       "      <th>177</th>\n",
       "      <td>457.07</td>\n",
       "    </tr>\n",
       "    <tr>\n",
       "      <th>178</th>\n",
       "      <td>438.44</td>\n",
       "    </tr>\n",
       "    <tr>\n",
       "      <th>179</th>\n",
       "      <td>473.43</td>\n",
       "    </tr>\n",
       "    <tr>\n",
       "      <th>180</th>\n",
       "      <td>437.39</td>\n",
       "    </tr>\n",
       "    <tr>\n",
       "      <th>181</th>\n",
       "      <td>450.86</td>\n",
       "    </tr>\n",
       "    <tr>\n",
       "      <th>182</th>\n",
       "      <td>435.12</td>\n",
       "    </tr>\n",
       "    <tr>\n",
       "      <th>183</th>\n",
       "      <td>477.05</td>\n",
       "    </tr>\n",
       "    <tr>\n",
       "      <th>184</th>\n",
       "      <td>432.60</td>\n",
       "    </tr>\n",
       "    <tr>\n",
       "      <th>185</th>\n",
       "      <td>432.43</td>\n",
       "    </tr>\n",
       "    <tr>\n",
       "      <th>186</th>\n",
       "      <td>486.46</td>\n",
       "    </tr>\n",
       "    <tr>\n",
       "      <th>187</th>\n",
       "      <td>468.14</td>\n",
       "    </tr>\n",
       "    <tr>\n",
       "      <th>188</th>\n",
       "      <td>429.08</td>\n",
       "    </tr>\n",
       "    <tr>\n",
       "      <th>189</th>\n",
       "      <td>443.70</td>\n",
       "    </tr>\n",
       "    <tr>\n",
       "      <th>190</th>\n",
       "      <td>477.65</td>\n",
       "    </tr>\n",
       "    <tr>\n",
       "      <th>191</th>\n",
       "      <td>433.84</td>\n",
       "    </tr>\n",
       "    <tr>\n",
       "      <th>192</th>\n",
       "      <td>442.65</td>\n",
       "    </tr>\n",
       "    <tr>\n",
       "      <th>193</th>\n",
       "      <td>478.44</td>\n",
       "    </tr>\n",
       "    <tr>\n",
       "      <th>194</th>\n",
       "      <td>447.18</td>\n",
       "    </tr>\n",
       "    <tr>\n",
       "      <th>195</th>\n",
       "      <td>446.26</td>\n",
       "    </tr>\n",
       "    <tr>\n",
       "      <th>196</th>\n",
       "      <td>472.67</td>\n",
       "    </tr>\n",
       "    <tr>\n",
       "      <th>197</th>\n",
       "      <td>461.60</td>\n",
       "    </tr>\n",
       "    <tr>\n",
       "      <th>198</th>\n",
       "      <td>443.71</td>\n",
       "    </tr>\n",
       "    <tr>\n",
       "      <th>199</th>\n",
       "      <td>430.16</td>\n",
       "    </tr>\n",
       "  </tbody>\n",
       "</table>\n",
       "<p>200 rows × 1 columns</p>\n",
       "</div>"
      ],
      "text/plain": [
       "         PE\n",
       "0    479.23\n",
       "1    472.32\n",
       "2    487.57\n",
       "3    449.08\n",
       "4    477.38\n",
       "5    474.16\n",
       "6    454.25\n",
       "7    429.85\n",
       "8    462.98\n",
       "9    434.04\n",
       "10   470.84\n",
       "11   488.65\n",
       "12   473.94\n",
       "13   437.42\n",
       "14   457.12\n",
       "15   457.49\n",
       "16   443.41\n",
       "17   445.27\n",
       "18   436.74\n",
       "19   487.33\n",
       "20   434.43\n",
       "21   437.14\n",
       "22   439.96\n",
       "23   442.58\n",
       "24   436.88\n",
       "25   441.94\n",
       "26   438.62\n",
       "27   470.55\n",
       "28   441.76\n",
       "29   450.88\n",
       "..      ...\n",
       "170  463.33\n",
       "171  470.53\n",
       "172  447.28\n",
       "173  450.70\n",
       "174  432.78\n",
       "175  451.09\n",
       "176  438.23\n",
       "177  457.07\n",
       "178  438.44\n",
       "179  473.43\n",
       "180  437.39\n",
       "181  450.86\n",
       "182  435.12\n",
       "183  477.05\n",
       "184  432.60\n",
       "185  432.43\n",
       "186  486.46\n",
       "187  468.14\n",
       "188  429.08\n",
       "189  443.70\n",
       "190  477.65\n",
       "191  433.84\n",
       "192  442.65\n",
       "193  478.44\n",
       "194  447.18\n",
       "195  446.26\n",
       "196  472.67\n",
       "197  461.60\n",
       "198  443.71\n",
       "199  430.16\n",
       "\n",
       "[200 rows x 1 columns]"
      ]
     },
     "execution_count": 16,
     "metadata": {},
     "output_type": "execute_result"
    }
   ],
   "source": [
    "yTestTrue = test.iloc[:,-1:]\n",
    "yTestTrue"
   ]
  },
  {
   "cell_type": "markdown",
   "metadata": {},
   "source": [
    "### Converting to polynomial "
   ]
  },
  {
   "cell_type": "code",
   "execution_count": 17,
   "metadata": {},
   "outputs": [
    {
     "data": {
      "text/plain": [
       "(200, 15)"
      ]
     },
     "execution_count": 17,
     "metadata": {},
     "output_type": "execute_result"
    }
   ],
   "source": [
    "poly_xtest=polyTransform(2,Xtest)\n",
    "poly_xtest.shape"
   ]
  },
  {
   "cell_type": "markdown",
   "metadata": {},
   "source": [
    "### Applying Learned theta values from Trained model on test data to predict values on Test"
   ]
  },
  {
   "cell_type": "code",
   "execution_count": 18,
   "metadata": {},
   "outputs": [
    {
     "data": {
      "text/plain": [
       "matrix([[454.03625689, 451.67172335, 462.5985258 , 452.43033375,\n",
       "         455.49677233, 454.11570564, 452.62492004, 445.99084685,\n",
       "         459.10795525, 450.42207148, 458.4551422 , 467.47290904,\n",
       "         461.45255556, 454.35685273, 457.79502677, 464.95761126,\n",
       "         447.92414616, 457.10163514, 452.208684  , 460.81340397,\n",
       "         446.88469503, 453.59813974, 453.49372864, 449.29660824,\n",
       "         446.43497091, 449.27448928, 451.75163854, 453.10054712,\n",
       "         446.06647575, 453.53324988, 455.36750109, 460.63741177,\n",
       "         458.83609955, 454.48821433, 456.78295532, 462.30474797,\n",
       "         449.32615955, 453.85622483, 462.06377668, 461.42248457,\n",
       "         460.84759782, 448.19213054, 441.14072412, 464.30863309,\n",
       "         450.76076164, 460.50561744, 459.20213525, 448.00029451,\n",
       "         454.09226851, 452.92656869, 454.91258057, 448.98863877,\n",
       "         449.16569641, 447.2001665 , 469.95268606, 459.93835535,\n",
       "         450.93315986, 449.4436547 , 452.93659534, 454.42718114,\n",
       "         461.09363176, 452.7680396 , 456.28867576, 448.13370687,\n",
       "         459.09912111, 448.75461178, 450.93959159, 457.27970609,\n",
       "         453.94202698, 448.21555631, 458.7462781 , 442.81896381,\n",
       "         461.39061887, 461.83057836, 453.05565471, 459.62918665,\n",
       "         443.11893178, 451.21098429, 455.16801084, 461.92336789,\n",
       "         461.64040693, 460.43031612, 459.44099881, 453.19983991,\n",
       "         461.00576547, 449.87839713, 442.07638968, 450.73185628,\n",
       "         453.25304212, 459.68723886, 442.47372569, 452.44394301,\n",
       "         451.29258672, 449.75142337, 451.26561304, 462.34688531,\n",
       "         452.09017165, 452.94205401, 459.85653635, 448.81967144,\n",
       "         460.69942007, 457.2556538 , 449.50680454, 465.54540754,\n",
       "         465.97015447, 456.36068356, 447.60697597, 451.76538116,\n",
       "         457.05846941, 455.9196634 , 457.16362141, 442.67920484,\n",
       "         448.46734465, 448.85878763, 471.99144247, 457.09325783,\n",
       "         455.19244236, 457.29238858, 457.17276973, 450.67259585,\n",
       "         452.95719977, 449.6181699 , 457.01870882, 460.83214034,\n",
       "         457.4063755 , 452.46691853, 451.10216207, 457.69639501,\n",
       "         449.08243853, 451.86275754, 452.55955685, 451.8645866 ,\n",
       "         451.13346967, 462.10292623, 449.1773289 , 447.56899112,\n",
       "         443.45561028, 458.21641169, 454.5191422 , 445.53531412,\n",
       "         448.16095455, 448.48932778, 451.90139047, 445.04789162,\n",
       "         462.1746818 , 448.30272446, 457.47732862, 444.90961545,\n",
       "         455.35102888, 457.93049326, 459.36109851, 463.747193  ,\n",
       "         462.29222366, 447.04099812, 454.60425813, 450.13602883,\n",
       "         457.13674821, 459.36245904, 463.09240236, 462.82730397,\n",
       "         454.08796592, 448.74086135, 460.87168994, 451.09708167,\n",
       "         451.13351223, 451.6527796 , 457.42708416, 445.70310323,\n",
       "         448.52004931, 449.7376275 , 452.21070423, 454.61557347,\n",
       "         450.8592652 , 454.44305886, 446.69239879, 451.13523352,\n",
       "         449.23089921, 444.89095087, 447.44823484, 459.52235944,\n",
       "         453.14306877, 451.58399182, 456.37081613, 464.4475336 ,\n",
       "         447.87520026, 448.7873856 , 456.22842527, 454.16962966,\n",
       "         449.96867922, 450.78150657, 452.03995399, 447.32324372,\n",
       "         454.5597847 , 451.63118168, 452.32759205, 453.31074951,\n",
       "         455.67396888, 456.50868967, 447.69356305, 445.90179605]])"
      ]
     },
     "execution_count": 18,
     "metadata": {},
     "output_type": "execute_result"
    }
   ],
   "source": [
    "yPredTest = theta.dot(poly_xtest.T)\n",
    "yPredTest"
   ]
  },
  {
   "cell_type": "markdown",
   "metadata": {},
   "source": [
    "### Root Mean Squared Error for Test"
   ]
  },
  {
   "cell_type": "code",
   "execution_count": 19,
   "metadata": {},
   "outputs": [
    {
     "data": {
      "text/plain": [
       "14.24398367587939"
      ]
     },
     "execution_count": 19,
     "metadata": {},
     "output_type": "execute_result"
    }
   ],
   "source": [
    "np.sqrt(mean_squared_error(yTestTrue,yPredTest.T))"
   ]
  }
 ],
 "metadata": {
  "kernelspec": {
   "display_name": "Python 3",
   "language": "python",
   "name": "python3"
  },
  "language_info": {
   "codemirror_mode": {
    "name": "ipython",
    "version": 3
   },
   "file_extension": ".py",
   "mimetype": "text/x-python",
   "name": "python",
   "nbconvert_exporter": "python",
   "pygments_lexer": "ipython3",
   "version": "3.7.1"
  }
 },
 "nbformat": 4,
 "nbformat_minor": 2
}
